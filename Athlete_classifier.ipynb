{
  "nbformat": 4,
  "nbformat_minor": 0,
  "metadata": {
    "colab": {
      "name": "Athlete classifier.ipynb",
      "provenance": [],
      "collapsed_sections": [],
      "include_colab_link": true
    },
    "kernelspec": {
      "name": "python3",
      "display_name": "Python 3"
    },
    "language_info": {
      "name": "python"
    }
  },
  "cells": [
    {
      "cell_type": "markdown",
      "metadata": {
        "id": "view-in-github",
        "colab_type": "text"
      },
      "source": [
        "<a href=\"https://colab.research.google.com/github/jonahcoutinho/celebrity_classification_engine/blob/master/Athlete_classifier.ipynb\" target=\"_parent\"><img src=\"https://colab.research.google.com/assets/colab-badge.svg\" alt=\"Open In Colab\"/></a>"
      ]
    },
    {
      "cell_type": "code",
      "metadata": {
        "id": "c7qtHpz18Xs6"
      },
      "source": [
        ""
      ],
      "execution_count": 1,
      "outputs": []
    },
    {
      "cell_type": "code",
      "metadata": {
        "colab": {
          "base_uri": "https://localhost:8080/"
        },
        "id": "1Id-Ob-lUOHn",
        "outputId": "bd5902a1-d412-48a7-aef6-fefd24fd3011"
      },
      "source": [
        "from google.colab import drive\n",
        "drive.mount('/content/drive')"
      ],
      "execution_count": 2,
      "outputs": [
        {
          "output_type": "stream",
          "text": [
            "Drive already mounted at /content/drive; to attempt to forcibly remount, call drive.mount(\"/content/drive\", force_remount=True).\n"
          ],
          "name": "stdout"
        }
      ]
    },
    {
      "cell_type": "code",
      "metadata": {
        "id": "tOhPCPQGDL5G"
      },
      "source": [
        "import pandas as pd\n",
        "import matplotlib.pyplot as plt\n",
        "import numpy as np\n",
        "import seaborn as sns\n",
        "%matplotlib inline\n",
        "from sklearn.model_selection import train_test_split\n",
        "from sklearn.metrics import accuracy_score,confusion_matrix\n",
        "from sklearn.linear_model import LogisticRegression,LinearRegression\n",
        "from sklearn.ensemble import RandomForestClassifier\n",
        "from sklearn.tree import DecisionTreeClassifier\n",
        "from sklearn.svm import SVC\n",
        "from sklearn.cluster import KMeans\n",
        "from sklearn.preprocessing import MinMaxScaler\n",
        "from sklearn.naive_bayes import GaussianNB\n",
        "from sklearn.feature_extraction.text import CountVectorizer\n",
        "from sklearn.datasets import load_iris\n",
        "from sklearn.model_selection import GridSearchCV\n",
        "from sklearn.model_selection import ShuffleSplit\n",
        "from sklearn.tree import DecisionTreeRegressor\n",
        "from sklearn.datasets import load_digits\n",
        "import cv2\n",
        "from sklearn.model_selection import cross_val_score"
      ],
      "execution_count": 3,
      "outputs": []
    },
    {
      "cell_type": "code",
      "metadata": {
        "id": "8yXFiS7JVGr0"
      },
      "source": [
        "face_cascade=cv2.CascadeClassifier('/content/drive/MyDrive/haarcascades/haarcascade_frontalface_default.xml')\n",
        "eye_cascade=cv2.CascadeClassifier('/content/drive/MyDrive/haarcascades/haarcascade_eye.xml')\n"
      ],
      "execution_count": 4,
      "outputs": []
    },
    {
      "cell_type": "markdown",
      "metadata": {
        "id": "TmNIT4YtXz4R"
      },
      "source": [
        "Now we have detected the face. so we draw a rectangle around it\n"
      ]
    },
    {
      "cell_type": "markdown",
      "metadata": {
        "id": "EbzdV-q9bcxg"
      },
      "source": [
        "ROI is the region of interest\n",
        "so now we try and isolate only faces for the images\n"
      ]
    },
    {
      "cell_type": "markdown",
      "metadata": {
        "id": "brfHm7fl684V"
      },
      "source": [
        "*******************Start main code here***************************************"
      ]
    },
    {
      "cell_type": "markdown",
      "metadata": {
        "id": "oWUjUiFebkbb"
      },
      "source": [
        "Now we need to make a funtion to perform these operation to crop all images. \n",
        "\n",
        "Its the same code but for a larger scale:\n",
        "\n",
        "Lets do it!\n"
      ]
    },
    {
      "cell_type": "code",
      "metadata": {
        "id": "YVXC0DuG5RkJ"
      },
      "source": [
        "face_cascade=cv2.CascadeClassifier('/content/drive/MyDrive/haarcascades/haarcascade_frontalface_default.xml')\n",
        "eye_cascade=cv2.CascadeClassifier('/content/drive/MyDrive/haarcascades/haarcascade_eye.xml')"
      ],
      "execution_count": 5,
      "outputs": []
    },
    {
      "cell_type": "code",
      "metadata": {
        "id": "cqr8YVZiaCRm"
      },
      "source": [
        "def get_cropped_image_if_2_eyes(image_path):\n",
        "  img = cv2.imread(image_path)\n",
        "  gray=cv2.cvtColor(img,cv2.COLOR_BGR2GRAY)\n",
        "  faces=face_cascade.detectMultiScale(gray,1.3,5)\n",
        "  for (x,y,w,h) in faces:\n",
        "    roi_gray = gray[y:y+h, x:x+w]\n",
        "    roi_color = img[y:y+h, x:x+w]\n",
        "    eyes = eye_cascade.detectMultiScale(roi_gray)\n",
        "    if(len(eyes)>=2):\n",
        "      return roi_color\n",
        "\n",
        "\n"
      ],
      "execution_count": 6,
      "outputs": []
    },
    {
      "cell_type": "code",
      "metadata": {
        "id": "dKQa7guNddp8"
      },
      "source": [
        "cropped_image=get_cropped_image_if_2_eyes('/content/drive/MyDrive/images_dataset/roger_federer/07548250.jpg')"
      ],
      "execution_count": 7,
      "outputs": []
    },
    {
      "cell_type": "code",
      "metadata": {
        "id": "2G-TROTWdmM7",
        "colab": {
          "base_uri": "https://localhost:8080/",
          "height": 287
        },
        "outputId": "4b11c110-d6be-458b-9d48-bd15b145b075"
      },
      "source": [
        "plt.imshow(cropped_image)"
      ],
      "execution_count": 8,
      "outputs": [
        {
          "output_type": "execute_result",
          "data": {
            "text/plain": [
              "<matplotlib.image.AxesImage at 0x7f5285790e10>"
            ]
          },
          "metadata": {
            "tags": []
          },
          "execution_count": 8
        },
        {
          "output_type": "display_data",
          "data": {
            "image/png": "[encoded data removed]",
            "text/plain": [
              "<Figure size 432x288 with 1 Axes>"
            ]
          },
          "metadata": {
            "tags": [],
            "needs_background": "light"
          }
        }
      ]
    },
    {
      "cell_type": "code",
      "metadata": {
        "id": "MlGbJ-YmdqC7"
      },
      "source": [
        "import os\n",
        "img_dirs=[]\n",
        "for entry in os.scandir('/content/drive/MyDrive/images_dataset/'):\n",
        "  if entry.is_dir():\n",
        "    img_dirs.append(entry.path)"
      ],
      "execution_count": 9,
      "outputs": []
    },
    {
      "cell_type": "code",
      "metadata": {
        "colab": {
          "base_uri": "https://localhost:8080/"
        },
        "id": "fRcikrnReV9W",
        "outputId": "1f41de12-0785-4583-baa0-15c6916a7f4c"
      },
      "source": [
        "img_dirs"
      ],
      "execution_count": 10,
      "outputs": [
        {
          "output_type": "execute_result",
          "data": {
            "text/plain": [
              "['/content/drive/MyDrive/images_dataset/lionel_messi',\n",
              " '/content/drive/MyDrive/images_dataset/maria_sharapova',\n",
              " '/content/drive/MyDrive/images_dataset/virat_kohli',\n",
              " '/content/drive/MyDrive/images_dataset/roger_federer',\n",
              " '/content/drive/MyDrive/images_dataset/serena_williams',\n",
              " '/content/drive/MyDrive/images_dataset/.ipynb_checkpoints']"
            ]
          },
          "metadata": {
            "tags": []
          },
          "execution_count": 10
        }
      ]
    },
    {
      "cell_type": "markdown",
      "metadata": {
        "id": "2WLIu28xg-jR"
      },
      "source": [
        "we have the file names in img_dirs\n",
        "cropped folder=\n",
        "/content/drive/MyDrive/images_dataset/cropped"
      ]
    },
    {
      "cell_type": "code",
      "metadata": {
        "id": "iGUuichwjU1W"
      },
      "source": [
        "path_to_cr_data='/content/drive/MyDrive/imades_dataset_cropped/'\n",
        "import shutil\n",
        "if os.path.exists(path_to_cr_data):\n",
        "     shutil.rmtree(path_to_cr_data)\n",
        "os.mkdir(path_to_cr_data)"
      ],
      "execution_count": 11,
      "outputs": []
    },
    {
      "cell_type": "markdown",
      "metadata": {
        "id": "YN_uF0RVnClK"
      },
      "source": [
        "we create a dict so that we can map the celeb to its individual cropped images. and we have to preinitialise it as given"
      ]
    },
    {
      "cell_type": "code",
      "metadata": {
        "colab": {
          "base_uri": "https://localhost:8080/"
        },
        "id": "JrnPM_wOeXwT",
        "outputId": "81cdb790-6db4-4e9d-84f6-6183411eeffa"
      },
      "source": [
        "cropped_image_dirs=[]\n",
        "celebrity_file_names_dict={}\n",
        "\n",
        "for img_dir in img_dirs:\n",
        "  count=1\n",
        "  celebrity_name=img_dir.split('/')[-1]\n",
        "\n",
        "  celebrity_file_names_dict[celebrity_name]=[]\n",
        "\n",
        "  for entry in os.scandir(img_dir):\n",
        "    roi_color=get_cropped_image_if_2_eyes(entry.path)\n",
        "    if roi_color is not None:\n",
        "      cropped_folder=path_to_cr_data+celebrity_name\n",
        "      \n",
        "      if not os.path.exists(cropped_folder):\n",
        "        os.makedirs(cropped_folder) \n",
        "        cropped_image_dirs.append(cropped_folder)\n",
        "        print('....',cropped_folder)\n",
        "      cropped_file_name=celebrity_name+str(count)+\".png\"\n",
        "      cropped_file_path=cropped_folder+'/'+cropped_file_name\n",
        "      cv2.imwrite(cropped_file_path,roi_color)\n",
        "      celebrity_file_names_dict[celebrity_name].append(cropped_file_path)\n",
        "      count+=1"
      ],
      "execution_count": 12,
      "outputs": [
        {
          "output_type": "stream",
          "text": [
            ".... /content/drive/MyDrive/imades_dataset_cropped/lionel_messi\n",
            ".... /content/drive/MyDrive/imades_dataset_cropped/maria_sharapova\n",
            ".... /content/drive/MyDrive/imades_dataset_cropped/virat_kohli\n",
            ".... /content/drive/MyDrive/imades_dataset_cropped/roger_federer\n",
            ".... /content/drive/MyDrive/imades_dataset_cropped/serena_williams\n"
          ],
          "name": "stdout"
        }
      ]
    },
    {
      "cell_type": "code",
      "metadata": {
        "colab": {
          "base_uri": "https://localhost:8080/"
        },
        "id": "S7z7v1TzhbEM",
        "outputId": "cdb8b958-76b1-4f60-ec04-d8216b744776"
      },
      "source": [
        "print(celebrity_file_names_dict)"
      ],
      "execution_count": 29,
      "outputs": [
        {
          "output_type": "stream",
          "text": [
            "{'lionel_messi': ['/content/drive/MyDrive/imades_dataset_cropped/lionel_messi/lionel_messi1.png', '/content/drive/MyDrive/imades_dataset_cropped/lionel_messi/lionel_messi2.png', '/content/drive/MyDrive/imades_dataset_cropped/lionel_messi/lionel_messi3.png', '/content/drive/MyDrive/imades_dataset_cropped/lionel_messi/lionel_messi4.png', '/content/drive/MyDrive/imades_dataset_cropped/lionel_messi/lionel_messi5.png', '/content/drive/MyDrive/imades_dataset_cropped/lionel_messi/lionel_messi6.png', '/content/drive/MyDrive/imades_dataset_cropped/lionel_messi/lionel_messi7.png', '/content/drive/MyDrive/imades_dataset_cropped/lionel_messi/lionel_messi8.png', '/content/drive/MyDrive/imades_dataset_cropped/lionel_messi/lionel_messi9.png', '/content/drive/MyDrive/imades_dataset_cropped/lionel_messi/lionel_messi10.png', '/content/drive/MyDrive/imades_dataset_cropped/lionel_messi/lionel_messi11.png', '/content/drive/MyDrive/imades_dataset_cropped/lionel_messi/lionel_messi12.png', '/content/drive/MyDrive/imades_dataset_cropped/lionel_messi/lionel_messi13.png', '/content/drive/MyDrive/imades_dataset_cropped/lionel_messi/lionel_messi14.png', '/content/drive/MyDrive/imades_dataset_cropped/lionel_messi/lionel_messi15.png', '/content/drive/MyDrive/imades_dataset_cropped/lionel_messi/lionel_messi16.png', '/content/drive/MyDrive/imades_dataset_cropped/lionel_messi/lionel_messi17.png', '/content/drive/MyDrive/imades_dataset_cropped/lionel_messi/lionel_messi18.png', '/content/drive/MyDrive/imades_dataset_cropped/lionel_messi/lionel_messi19.png', '/content/drive/MyDrive/imades_dataset_cropped/lionel_messi/lionel_messi20.png', '/content/drive/MyDrive/imades_dataset_cropped/lionel_messi/lionel_messi21.png', '/content/drive/MyDrive/imades_dataset_cropped/lionel_messi/lionel_messi22.png', '/content/drive/MyDrive/imades_dataset_cropped/lionel_messi/lionel_messi23.png', '/content/drive/MyDrive/imades_dataset_cropped/lionel_messi/lionel_messi24.png', '/content/drive/MyDrive/imades_dataset_cropped/lionel_messi/lionel_messi25.png', '/content/drive/MyDrive/imades_dataset_cropped/lionel_messi/lionel_messi26.png', '/content/drive/MyDrive/imades_dataset_cropped/lionel_messi/lionel_messi27.png', '/content/drive/MyDrive/imades_dataset_cropped/lionel_messi/lionel_messi28.png', '/content/drive/MyDrive/imades_dataset_cropped/lionel_messi/lionel_messi29.png', '/content/drive/MyDrive/imades_dataset_cropped/lionel_messi/lionel_messi30.png', '/content/drive/MyDrive/imades_dataset_cropped/lionel_messi/lionel_messi31.png', '/content/drive/MyDrive/imades_dataset_cropped/lionel_messi/lionel_messi32.png', '/content/drive/MyDrive/imades_dataset_cropped/lionel_messi/lionel_messi33.png', '/content/drive/MyDrive/imades_dataset_cropped/lionel_messi/lionel_messi34.png', '/content/drive/MyDrive/imades_dataset_cropped/lionel_messi/lionel_messi35.png', '/content/drive/MyDrive/imades_dataset_cropped/lionel_messi/lionel_messi36.png', '/content/drive/MyDrive/imades_dataset_cropped/lionel_messi/lionel_messi37.png', '/content/drive/MyDrive/imades_dataset_cropped/lionel_messi/lionel_messi38.png', '/content/drive/MyDrive/imades_dataset_cropped/lionel_messi/lionel_messi39.png'], 'maria_sharapova': ['/content/drive/MyDrive/imades_dataset_cropped/maria_sharapova/maria_sharapova1.png', '/content/drive/MyDrive/imades_dataset_cropped/maria_sharapova/maria_sharapova2.png', '/content/drive/MyDrive/imades_dataset_cropped/maria_sharapova/maria_sharapova3.png', '/content/drive/MyDrive/imades_dataset_cropped/maria_sharapova/maria_sharapova4.png', '/content/drive/MyDrive/imades_dataset_cropped/maria_sharapova/maria_sharapova5.png', '/content/drive/MyDrive/imades_dataset_cropped/maria_sharapova/maria_sharapova6.png', '/content/drive/MyDrive/imades_dataset_cropped/maria_sharapova/maria_sharapova7.png', '/content/drive/MyDrive/imades_dataset_cropped/maria_sharapova/maria_sharapova8.png', '/content/drive/MyDrive/imades_dataset_cropped/maria_sharapova/maria_sharapova9.png', '/content/drive/MyDrive/imades_dataset_cropped/maria_sharapova/maria_sharapova10.png', '/content/drive/MyDrive/imades_dataset_cropped/maria_sharapova/maria_sharapova11.png', '/content/drive/MyDrive/imades_dataset_cropped/maria_sharapova/maria_sharapova12.png', '/content/drive/MyDrive/imades_dataset_cropped/maria_sharapova/maria_sharapova13.png', '/content/drive/MyDrive/imades_dataset_cropped/maria_sharapova/maria_sharapova14.png', '/content/drive/MyDrive/imades_dataset_cropped/maria_sharapova/maria_sharapova15.png', '/content/drive/MyDrive/imades_dataset_cropped/maria_sharapova/maria_sharapova16.png', '/content/drive/MyDrive/imades_dataset_cropped/maria_sharapova/maria_sharapova17.png', '/content/drive/MyDrive/imades_dataset_cropped/maria_sharapova/maria_sharapova18.png', '/content/drive/MyDrive/imades_dataset_cropped/maria_sharapova/maria_sharapova19.png', '/content/drive/MyDrive/imades_dataset_cropped/maria_sharapova/maria_sharapova20.png', '/content/drive/MyDrive/imades_dataset_cropped/maria_sharapova/maria_sharapova21.png', '/content/drive/MyDrive/imades_dataset_cropped/maria_sharapova/maria_sharapova22.png', '/content/drive/MyDrive/imades_dataset_cropped/maria_sharapova/maria_sharapova23.png', '/content/drive/MyDrive/imades_dataset_cropped/maria_sharapova/maria_sharapova24.png', '/content/drive/MyDrive/imades_dataset_cropped/maria_sharapova/maria_sharapova25.png', '/content/drive/MyDrive/imades_dataset_cropped/maria_sharapova/maria_sharapova26.png', '/content/drive/MyDrive/imades_dataset_cropped/maria_sharapova/maria_sharapova27.png', '/content/drive/MyDrive/imades_dataset_cropped/maria_sharapova/maria_sharapova28.png', '/content/drive/MyDrive/imades_dataset_cropped/maria_sharapova/maria_sharapova29.png', '/content/drive/MyDrive/imades_dataset_cropped/maria_sharapova/maria_sharapova30.png', '/content/drive/MyDrive/imades_dataset_cropped/maria_sharapova/maria_sharapova31.png', '/content/drive/MyDrive/imades_dataset_cropped/maria_sharapova/maria_sharapova32.png', '/content/drive/MyDrive/imades_dataset_cropped/maria_sharapova/maria_sharapova33.png', '/content/drive/MyDrive/imades_dataset_cropped/maria_sharapova/maria_sharapova34.png', '/content/drive/MyDrive/imades_dataset_cropped/maria_sharapova/maria_sharapova35.png'], 'virat_kohli': ['/content/drive/MyDrive/imades_dataset_cropped/virat_kohli/virat_kohli1.png', '/content/drive/MyDrive/imades_dataset_cropped/virat_kohli/virat_kohli2.png', '/content/drive/MyDrive/imades_dataset_cropped/virat_kohli/virat_kohli3.png', '/content/drive/MyDrive/imades_dataset_cropped/virat_kohli/virat_kohli4.png', '/content/drive/MyDrive/imades_dataset_cropped/virat_kohli/virat_kohli5.png', '/content/drive/MyDrive/imades_dataset_cropped/virat_kohli/virat_kohli6.png', '/content/drive/MyDrive/imades_dataset_cropped/virat_kohli/virat_kohli7.png', '/content/drive/MyDrive/imades_dataset_cropped/virat_kohli/virat_kohli8.png', '/content/drive/MyDrive/imades_dataset_cropped/virat_kohli/virat_kohli9.png', '/content/drive/MyDrive/imades_dataset_cropped/virat_kohli/virat_kohli10.png', '/content/drive/MyDrive/imades_dataset_cropped/virat_kohli/virat_kohli11.png', '/content/drive/MyDrive/imades_dataset_cropped/virat_kohli/virat_kohli12.png', '/content/drive/MyDrive/imades_dataset_cropped/virat_kohli/virat_kohli13.png', '/content/drive/MyDrive/imades_dataset_cropped/virat_kohli/virat_kohli14.png', '/content/drive/MyDrive/imades_dataset_cropped/virat_kohli/virat_kohli15.png', '/content/drive/MyDrive/imades_dataset_cropped/virat_kohli/virat_kohli16.png', '/content/drive/MyDrive/imades_dataset_cropped/virat_kohli/virat_kohli17.png', '/content/drive/MyDrive/imades_dataset_cropped/virat_kohli/virat_kohli18.png', '/content/drive/MyDrive/imades_dataset_cropped/virat_kohli/virat_kohli19.png', '/content/drive/MyDrive/imades_dataset_cropped/virat_kohli/virat_kohli20.png', '/content/drive/MyDrive/imades_dataset_cropped/virat_kohli/virat_kohli21.png', '/content/drive/MyDrive/imades_dataset_cropped/virat_kohli/virat_kohli22.png', '/content/drive/MyDrive/imades_dataset_cropped/virat_kohli/virat_kohli23.png', '/content/drive/MyDrive/imades_dataset_cropped/virat_kohli/virat_kohli24.png', '/content/drive/MyDrive/imades_dataset_cropped/virat_kohli/virat_kohli25.png', '/content/drive/MyDrive/imades_dataset_cropped/virat_kohli/virat_kohli26.png', '/content/drive/MyDrive/imades_dataset_cropped/virat_kohli/virat_kohli27.png', '/content/drive/MyDrive/imades_dataset_cropped/virat_kohli/virat_kohli28.png', '/content/drive/MyDrive/imades_dataset_cropped/virat_kohli/virat_kohli29.png', '/content/drive/MyDrive/imades_dataset_cropped/virat_kohli/virat_kohli30.png', '/content/drive/MyDrive/imades_dataset_cropped/virat_kohli/virat_kohli31.png', '/content/drive/MyDrive/imades_dataset_cropped/virat_kohli/virat_kohli32.png', '/content/drive/MyDrive/imades_dataset_cropped/virat_kohli/virat_kohli33.png', '/content/drive/MyDrive/imades_dataset_cropped/virat_kohli/virat_kohli34.png', '/content/drive/MyDrive/imades_dataset_cropped/virat_kohli/virat_kohli35.png', '/content/drive/MyDrive/imades_dataset_cropped/virat_kohli/virat_kohli36.png', '/content/drive/MyDrive/imades_dataset_cropped/virat_kohli/virat_kohli37.png', '/content/drive/MyDrive/imades_dataset_cropped/virat_kohli/virat_kohli38.png', '/content/drive/MyDrive/imades_dataset_cropped/virat_kohli/virat_kohli39.png', '/content/drive/MyDrive/imades_dataset_cropped/virat_kohli/virat_kohli40.png', '/content/drive/MyDrive/imades_dataset_cropped/virat_kohli/virat_kohli41.png', '/content/drive/MyDrive/imades_dataset_cropped/virat_kohli/virat_kohli42.png', '/content/drive/MyDrive/imades_dataset_cropped/virat_kohli/virat_kohli43.png', '/content/drive/MyDrive/imades_dataset_cropped/virat_kohli/virat_kohli44.png', '/content/drive/MyDrive/imades_dataset_cropped/virat_kohli/virat_kohli45.png', '/content/drive/MyDrive/imades_dataset_cropped/virat_kohli/virat_kohli46.png', '/content/drive/MyDrive/imades_dataset_cropped/virat_kohli/virat_kohli47.png', '/content/drive/MyDrive/imades_dataset_cropped/virat_kohli/virat_kohli48.png'], 'roger_federer': ['/content/drive/MyDrive/imades_dataset_cropped/roger_federer/roger_federer1.png', '/content/drive/MyDrive/imades_dataset_cropped/roger_federer/roger_federer2.png', '/content/drive/MyDrive/imades_dataset_cropped/roger_federer/roger_federer3.png', '/content/drive/MyDrive/imades_dataset_cropped/roger_federer/roger_federer4.png', '/content/drive/MyDrive/imades_dataset_cropped/roger_federer/roger_federer5.png', '/content/drive/MyDrive/imades_dataset_cropped/roger_federer/roger_federer6.png', '/content/drive/MyDrive/imades_dataset_cropped/roger_federer/roger_federer7.png', '/content/drive/MyDrive/imades_dataset_cropped/roger_federer/roger_federer8.png', '/content/drive/MyDrive/imades_dataset_cropped/roger_federer/roger_federer9.png', '/content/drive/MyDrive/imades_dataset_cropped/roger_federer/roger_federer10.png', '/content/drive/MyDrive/imades_dataset_cropped/roger_federer/roger_federer11.png', '/content/drive/MyDrive/imades_dataset_cropped/roger_federer/roger_federer12.png', '/content/drive/MyDrive/imades_dataset_cropped/roger_federer/roger_federer13.png', '/content/drive/MyDrive/imades_dataset_cropped/roger_federer/roger_federer14.png', '/content/drive/MyDrive/imades_dataset_cropped/roger_federer/roger_federer15.png', '/content/drive/MyDrive/imades_dataset_cropped/roger_federer/roger_federer16.png', '/content/drive/MyDrive/imades_dataset_cropped/roger_federer/roger_federer17.png', '/content/drive/MyDrive/imades_dataset_cropped/roger_federer/roger_federer18.png', '/content/drive/MyDrive/imades_dataset_cropped/roger_federer/roger_federer19.png', '/content/drive/MyDrive/imades_dataset_cropped/roger_federer/roger_federer20.png', '/content/drive/MyDrive/imades_dataset_cropped/roger_federer/roger_federer21.png', '/content/drive/MyDrive/imades_dataset_cropped/roger_federer/roger_federer22.png', '/content/drive/MyDrive/imades_dataset_cropped/roger_federer/roger_federer23.png', '/content/drive/MyDrive/imades_dataset_cropped/roger_federer/roger_federer24.png', '/content/drive/MyDrive/imades_dataset_cropped/roger_federer/roger_federer25.png', '/content/drive/MyDrive/imades_dataset_cropped/roger_federer/roger_federer26.png', '/content/drive/MyDrive/imades_dataset_cropped/roger_federer/roger_federer27.png', '/content/drive/MyDrive/imades_dataset_cropped/roger_federer/roger_federer28.png', '/content/drive/MyDrive/imades_dataset_cropped/roger_federer/roger_federer29.png', '/content/drive/MyDrive/imades_dataset_cropped/roger_federer/roger_federer30.png'], 'serena_williams': ['/content/drive/MyDrive/imades_dataset_cropped/serena_williams/serena_williams1.png', '/content/drive/MyDrive/imades_dataset_cropped/serena_williams/serena_williams2.png', '/content/drive/MyDrive/imades_dataset_cropped/serena_williams/serena_williams3.png', '/content/drive/MyDrive/imades_dataset_cropped/serena_williams/serena_williams4.png', '/content/drive/MyDrive/imades_dataset_cropped/serena_williams/serena_williams5.png', '/content/drive/MyDrive/imades_dataset_cropped/serena_williams/serena_williams6.png', '/content/drive/MyDrive/imades_dataset_cropped/serena_williams/serena_williams7.png', '/content/drive/MyDrive/imades_dataset_cropped/serena_williams/serena_williams8.png', '/content/drive/MyDrive/imades_dataset_cropped/serena_williams/serena_williams9.png', '/content/drive/MyDrive/imades_dataset_cropped/serena_williams/serena_williams10.png', '/content/drive/MyDrive/imades_dataset_cropped/serena_williams/serena_williams11.png', '/content/drive/MyDrive/imades_dataset_cropped/serena_williams/serena_williams12.png', '/content/drive/MyDrive/imades_dataset_cropped/serena_williams/serena_williams13.png', '/content/drive/MyDrive/imades_dataset_cropped/serena_williams/serena_williams14.png', '/content/drive/MyDrive/imades_dataset_cropped/serena_williams/serena_williams15.png', '/content/drive/MyDrive/imades_dataset_cropped/serena_williams/serena_williams16.png', '/content/drive/MyDrive/imades_dataset_cropped/serena_williams/serena_williams17.png', '/content/drive/MyDrive/imades_dataset_cropped/serena_williams/serena_williams18.png', '/content/drive/MyDrive/imades_dataset_cropped/serena_williams/serena_williams19.png', '/content/drive/MyDrive/imades_dataset_cropped/serena_williams/serena_williams20.png', '/content/drive/MyDrive/imades_dataset_cropped/serena_williams/serena_williams21.png', '/content/drive/MyDrive/imades_dataset_cropped/serena_williams/serena_williams22.png', '/content/drive/MyDrive/imades_dataset_cropped/serena_williams/serena_williams23.png', '/content/drive/MyDrive/imades_dataset_cropped/serena_williams/serena_williams24.png', '/content/drive/MyDrive/imades_dataset_cropped/serena_williams/serena_williams25.png', '/content/drive/MyDrive/imades_dataset_cropped/serena_williams/serena_williams26.png', '/content/drive/MyDrive/imades_dataset_cropped/serena_williams/serena_williams27.png', '/content/drive/MyDrive/imades_dataset_cropped/serena_williams/serena_williams28.png', '/content/drive/MyDrive/imades_dataset_cropped/serena_williams/serena_williams29.png', '/content/drive/MyDrive/imades_dataset_cropped/serena_williams/serena_williams30.png', '/content/drive/MyDrive/imades_dataset_cropped/serena_williams/serena_williams31.png', '/content/drive/MyDrive/imades_dataset_cropped/serena_williams/serena_williams32.png', '/content/drive/MyDrive/imades_dataset_cropped/serena_williams/serena_williams33.png', '/content/drive/MyDrive/imades_dataset_cropped/serena_williams/serena_williams34.png', '/content/drive/MyDrive/imades_dataset_cropped/serena_williams/serena_williams35.png']}\n"
          ],
          "name": "stdout"
        }
      ]
    },
    {
      "cell_type": "markdown",
      "metadata": {
        "id": "Tm1KOk1UB9aG"
      },
      "source": [
        "Thats it with cleaning. \n",
        "\n",
        "Now manually remove wrong images from folder\n"
      ]
    },
    {
      "cell_type": "markdown",
      "metadata": {
        "id": "ewCknD5vICCo"
      },
      "source": [
        "Now We wavelet transform for extracting meaning from the image"
      ]
    },
    {
      "cell_type": "code",
      "metadata": {
        "id": "nHvZmPCYevlL"
      },
      "source": [
        "import pywt\n",
        "import cv2    \n",
        "\n",
        "def w2d(img, mode='haar', level=1):\n",
        "    imArray = img\n",
        "    #Datatype conversions\n",
        "    #convert to grayscale\n",
        "    imArray = cv2.cvtColor( imArray,cv2.COLOR_RGB2GRAY )\n",
        "    #convert to float\n",
        "    imArray =  np.float32(imArray)   \n",
        "    imArray /= 255;\n",
        "    # compute coefficients \n",
        "    coeffs=pywt.wavedec2(imArray, mode, level=level)\n",
        "\n",
        "    #Process Coefficients\n",
        "    coeffs_H=list(coeffs)  \n",
        "    coeffs_H[0] *= 0;  \n",
        "\n",
        "    # reconstruction\n",
        "    imArray_H=pywt.waverec2(coeffs_H, mode);\n",
        "    imArray_H *= 255;\n",
        "    imArray_H =  np.uint8(imArray_H)\n",
        "\n",
        "    return imArray_H"
      ],
      "execution_count": 31,
      "outputs": []
    },
    {
      "cell_type": "markdown",
      "metadata": {
        "id": "kNQiouX0LgsO"
      },
      "source": [
        "Basically we deconstruct and reconstruct the image as follows:\n"
      ]
    },
    {
      "cell_type": "code",
      "metadata": {
        "id": "AFdwEqpu2iva",
        "colab": {
          "base_uri": "https://localhost:8080/",
          "height": 287
        },
        "outputId": "b18b90e8-ca8b-4169-d4ec-ab091b890dbf"
      },
      "source": [
        "image=cv2.imread('/content/drive/MyDrive/imades_dataset_cropped/lionel_messi/lionel_messi1.png')\n",
        "h=w2d(image,'db1',5)\n",
        "plt.imshow(h)"
      ],
      "execution_count": 32,
      "outputs": [
        {
          "output_type": "execute_result",
          "data": {
            "text/plain": [
              "<matplotlib.image.AxesImage at 0x7f5282c1bf90>"
            ]
          },
          "metadata": {
            "tags": []
          },
          "execution_count": 32
        },
        {
          "output_type": "display_data",
          "data": {
            "image/png": "[encoded data removed]",
            "text/plain": [
              "<Figure size 432x288 with 1 Axes>"
            ]
          },
          "metadata": {
            "tags": [],
            "needs_background": "light"
          }
        }
      ]
    },
    {
      "cell_type": "code",
      "metadata": {
        "id": "pPLe4_PuQjKi"
      },
      "source": [
        "del celebrity_file_names_dict['.ipynb_checkpoints']"
      ],
      "execution_count": null,
      "outputs": []
    },
    {
      "cell_type": "code",
      "metadata": {
        "colab": {
          "base_uri": "https://localhost:8080/"
        },
        "id": "1YR4lU8iRBnO",
        "outputId": "7ca75a37-bd12-4cb8-e203-3b6493e05b80"
      },
      "source": [
        "celebrity_file_names_dict.keys()"
      ],
      "execution_count": 34,
      "outputs": [
        {
          "output_type": "execute_result",
          "data": {
            "text/plain": [
              "dict_keys(['lionel_messi', 'maria_sharapova', 'virat_kohli', 'roger_federer', 'serena_williams'])"
            ]
          },
          "metadata": {
            "tags": []
          },
          "execution_count": 34
        }
      ]
    },
    {
      "cell_type": "code",
      "metadata": {
        "colab": {
          "base_uri": "https://localhost:8080/"
        },
        "id": "aSoHGaLjPFUH",
        "outputId": "7013c7da-bfd8-42f4-a602-edc12f226500"
      },
      "source": [
        "#we gotta store the names of the celebrities in y but in the form of numbers\n",
        "count=0\n",
        "class_dict={}\n",
        "for celebrity_name in celebrity_file_names_dict.keys():\n",
        "  class_dict[celebrity_name]=count\n",
        "  count=count+1\n",
        "class_dict  "
      ],
      "execution_count": 35,
      "outputs": [
        {
          "output_type": "execute_result",
          "data": {
            "text/plain": [
              "{'lionel_messi': 0,\n",
              " 'maria_sharapova': 1,\n",
              " 'roger_federer': 3,\n",
              " 'serena_williams': 4,\n",
              " 'virat_kohli': 2}"
            ]
          },
          "metadata": {
            "tags": []
          },
          "execution_count": 35
        }
      ]
    },
    {
      "cell_type": "markdown",
      "metadata": {
        "id": "yJIleFeXRWju"
      },
      "source": [
        "Now we can map appropriately"
      ]
    },
    {
      "cell_type": "code",
      "metadata": {
        "id": "P42SqeJELuks"
      },
      "source": [
        "X=[]\n",
        "y=[]\n",
        "for celebrity_name,training_files in celebrity_file_names_dict.items():\n",
        "  for training_image in training_files:\n",
        "    img=cv2.imread(training_image)\n",
        "    if(img is None):\n",
        "      continue\n",
        "    #images can be of diiferent size so just resize\n",
        "\n",
        "    scalled_raw_image=cv2.resize(img,(32,32))\n",
        "    img_har=w2d(img,'db1',5)\n",
        "    scalled_img_har=cv2.resize(img_har,(32,32))\n",
        "\n",
        "    #we basically want to vertically stack both these images one above the other using stack fucntion in numpy\n",
        "\n",
        "    combined_img=np.vstack((scalled_raw_image.reshape(32*32*3,1),scalled_img_har.reshape(32*32,1)))\n",
        "    X.append(combined_img)\n",
        "    y.append(class_dict[celebrity_name])\n"
      ],
      "execution_count": 64,
      "outputs": []
    },
    {
      "cell_type": "code",
      "metadata": {
        "colab": {
          "base_uri": "https://localhost:8080/"
        },
        "id": "HmEWVqZVRmf6",
        "outputId": "4469f124-e57a-4892-a160-8df17e6910c8"
      },
      "source": [
        "len(X)"
      ],
      "execution_count": 37,
      "outputs": [
        {
          "output_type": "execute_result",
          "data": {
            "text/plain": [
              "168"
            ]
          },
          "metadata": {
            "tags": []
          },
          "execution_count": 37
        }
      ]
    },
    {
      "cell_type": "code",
      "metadata": {
        "colab": {
          "base_uri": "https://localhost:8080/"
        },
        "id": "BjGwVU5VTDRM",
        "outputId": "a91ec822-3b91-415c-f87d-f6b8d18c9984"
      },
      "source": [
        "len(y)"
      ],
      "execution_count": 38,
      "outputs": [
        {
          "output_type": "execute_result",
          "data": {
            "text/plain": [
              "168"
            ]
          },
          "metadata": {
            "tags": []
          },
          "execution_count": 38
        }
      ]
    },
    {
      "cell_type": "code",
      "metadata": {
        "colab": {
          "base_uri": "https://localhost:8080/"
        },
        "id": "Hl7NNmIDTJ2o",
        "outputId": "4c7adebb-3d85-4160-f63c-5ed86390aa84"
      },
      "source": [
        "32*32*3+32*32"
      ],
      "execution_count": 39,
      "outputs": [
        {
          "output_type": "execute_result",
          "data": {
            "text/plain": [
              "4096"
            ]
          },
          "metadata": {
            "tags": []
          },
          "execution_count": 39
        }
      ]
    },
    {
      "cell_type": "markdown",
      "metadata": {
        "id": "d0oS7xCkTZwL"
      },
      "source": [
        "now lets reshape X to an array"
      ]
    },
    {
      "cell_type": "code",
      "metadata": {
        "colab": {
          "base_uri": "https://localhost:8080/"
        },
        "id": "aWBH5Z1vTXL4",
        "outputId": "ae434d14-0464-4989-a8e5-1a97203f0f13"
      },
      "source": [
        "X=np.array(X).reshape(len(X),4096).astype(float)\n",
        "X"
      ],
      "execution_count": 40,
      "outputs": [
        {
          "output_type": "execute_result",
          "data": {
            "text/plain": [
              "array([[100., 129., 140., ..., 237., 234., 232.],\n",
              "       [131., 125., 130., ...,   3., 101., 249.],\n",
              "       [228., 223., 222., ...,   0.,   0.,   0.],\n",
              "       ...,\n",
              "       [239., 229., 229., ...,  56.,   9., 230.],\n",
              "       [  1.,  52., 113., ...,  24., 152.,  63.],\n",
              "       [ 34.,  34.,  49., ...,   2., 253., 252.]])"
            ]
          },
          "metadata": {
            "tags": []
          },
          "execution_count": 40
        }
      ]
    },
    {
      "cell_type": "markdown",
      "metadata": {
        "id": "L8kWve3OWVEt"
      },
      "source": [
        "Now lets start modeling "
      ]
    },
    {
      "cell_type": "code",
      "metadata": {
        "id": "R-1mr9PcTkpI"
      },
      "source": [
        "xtrain,xtest,ytrain,ytest=train_test_split(X,y,random_state=0)\n"
      ],
      "execution_count": 41,
      "outputs": []
    },
    {
      "cell_type": "code",
      "metadata": {
        "colab": {
          "base_uri": "https://localhost:8080/"
        },
        "id": "Ry0GwUY7WtNX",
        "outputId": "4093bda0-3de5-4491-bb38-40a36816bd5c"
      },
      "source": [
        "from sklearn.pipeline import Pipeline,make_pipeline\n",
        "from sklearn.preprocessing import StandardScaler\n",
        "clf=Pipeline([('scalar',StandardScaler()),('svc',SVC(kernel='rbf',C=10,probability=True))])\n",
        "clf.fit(xtrain,ytrain)\n",
        "clf.score(xtest,ytest)"
      ],
      "execution_count": 79,
      "outputs": [
        {
          "output_type": "execute_result",
          "data": {
            "text/plain": [
              "0.9523809523809523"
            ]
          },
          "metadata": {
            "tags": []
          },
          "execution_count": 79
        }
      ]
    },
    {
      "cell_type": "code",
      "metadata": {
        "colab": {
          "base_uri": "https://localhost:8080/"
        },
        "id": "6pEk5hxwXKmn",
        "outputId": "e9677aac-3348-4f63-f19f-a9d0de906ec9"
      },
      "source": [
        "#lets see the classificationn report\n",
        "from sklearn.metrics import classification_report\n",
        "print(classification_report(ytest,clf.predict(xtest)))\n",
        "print(confusion_matrix(ytest,clf.predict(xtest)))"
      ],
      "execution_count": 43,
      "outputs": [
        {
          "output_type": "stream",
          "text": [
            "              precision    recall  f1-score   support\n",
            "\n",
            "           0       0.78      1.00      0.88         7\n",
            "           1       1.00      0.90      0.95        10\n",
            "           2       1.00      1.00      1.00        12\n",
            "           3       1.00      1.00      1.00         4\n",
            "           4       1.00      0.89      0.94         9\n",
            "\n",
            "    accuracy                           0.95        42\n",
            "   macro avg       0.96      0.96      0.95        42\n",
            "weighted avg       0.96      0.95      0.95        42\n",
            "\n",
            "[[ 7  0  0  0  0]\n",
            " [ 1  9  0  0  0]\n",
            " [ 0  0 12  0  0]\n",
            " [ 0  0  0  4  0]\n",
            " [ 1  0  0  0  8]]\n"
          ],
          "name": "stdout"
        }
      ]
    },
    {
      "cell_type": "markdown",
      "metadata": {
        "id": "6H_whayVYoFN"
      },
      "source": [
        "HyperParameter tuning with different models\n"
      ]
    },
    {
      "cell_type": "code",
      "metadata": {
        "id": "mgqCAbXeXsOf"
      },
      "source": [
        "model_params={\n",
        "    'svm':{\n",
        "        'model':SVC(),\n",
        "            'params': {\n",
        "            'kernel':['linear','rbf','poly'],\n",
        "            'C':[1,10,20], \n",
        "            'gamma': [0.001, 0.0001,'auto']\n",
        "                  }\n",
        "           },\n",
        "           'random_forest':{\n",
        "        'model':RandomForestClassifier(),\n",
        "            'params':{\n",
        "            'n_estimators':[1,5,10],\n",
        "            'criterion':['gini','entropy'], \n",
        "            'max_depth': [5,10,20]\n",
        "                  }\n",
        "           },\n",
        "             'logistic_regression':{\n",
        "        'model':LogisticRegression(),\n",
        "            'params':{\n",
        "            'solver':['newton-cg','lbfgs','saga','liblinear'],\n",
        "            'multi_class':['auto', 'ovr', 'multinomial'], \n",
        "            'C': [1,5,10]\n",
        "                  }\n",
        "           }\n",
        "}\n",
        "\n"
      ],
      "execution_count": 44,
      "outputs": []
    },
    {
      "cell_type": "code",
      "metadata": {
        "colab": {
          "base_uri": "https://localhost:8080/",
          "height": 1000
        },
        "id": "7AiLgYmTY63f",
        "outputId": "af8dbd3a-7be5-4cb2-b83e-a83fc68280f3"
      },
      "source": [
        "\n",
        "scores = []\n",
        "best_estimators = {}\n",
        "import pandas as pd\n",
        "for algo, mp in model_params.items():\n",
        "    #pipe = make_pipeline(StandardScaler(), )\n",
        "    StandardScaler().fit(xtrain,ytrain)\n",
        "    clf =  GridSearchCV(mp['model'], mp['params'], cv=5, return_train_score=False)\n",
        "    clf.fit(xtrain, ytrain)\n",
        "    scores.append({\n",
        "        'model': algo,\n",
        "        'best_score': clf.best_score_,\n",
        "        'best_params': clf.best_params_\n",
        "    })\n",
        "    best_estimators[algo] = clf.best_estimator_\n",
        "    \n",
        "df = pd.DataFrame(scores,columns=['model','best_score','best_params'])\n",
        "df"
      ],
      "execution_count": 45,
      "outputs": [
        {
          "output_type": "stream",
          "text": [
            "/usr/local/lib/python3.7/dist-packages/sklearn/linear_model/_logistic.py:765: ConvergenceWarning: lbfgs failed to converge (status=1):\n",
            "STOP: TOTAL NO. of ITERATIONS REACHED LIMIT.\n",
            "\n",
            "Increase the number of iterations (max_iter) or scale the data as shown in:\n",
            "    https://scikit-learn.org/stable/modules/preprocessing.html\n",
            "Please also refer to the documentation for alternative solver options:\n",
            "    https://scikit-learn.org/stable/modules/linear_model.html#logistic-regression\n",
            "  extra_warning_msg=_LOGISTIC_SOLVER_CONVERGENCE_MSG)\n",
            "/usr/local/lib/python3.7/dist-packages/sklearn/linear_model/_logistic.py:765: ConvergenceWarning: lbfgs failed to converge (status=1):\n",
            "STOP: TOTAL NO. of ITERATIONS REACHED LIMIT.\n",
            "\n",
            "Increase the number of iterations (max_iter) or scale the data as shown in:\n",
            "    https://scikit-learn.org/stable/modules/preprocessing.html\n",
            "Please also refer to the documentation for alternative solver options:\n",
            "    https://scikit-learn.org/stable/modules/linear_model.html#logistic-regression\n",
            "  extra_warning_msg=_LOGISTIC_SOLVER_CONVERGENCE_MSG)\n",
            "/usr/local/lib/python3.7/dist-packages/sklearn/linear_model/_logistic.py:765: ConvergenceWarning: lbfgs failed to converge (status=1):\n",
            "STOP: TOTAL NO. of ITERATIONS REACHED LIMIT.\n",
            "\n",
            "Increase the number of iterations (max_iter) or scale the data as shown in:\n",
            "    https://scikit-learn.org/stable/modules/preprocessing.html\n",
            "Please also refer to the documentation for alternative solver options:\n",
            "    https://scikit-learn.org/stable/modules/linear_model.html#logistic-regression\n",
            "  extra_warning_msg=_LOGISTIC_SOLVER_CONVERGENCE_MSG)\n",
            "/usr/local/lib/python3.7/dist-packages/sklearn/linear_model/_logistic.py:765: ConvergenceWarning: lbfgs failed to converge (status=1):\n",
            "STOP: TOTAL NO. of ITERATIONS REACHED LIMIT.\n",
            "\n",
            "Increase the number of iterations (max_iter) or scale the data as shown in:\n",
            "    https://scikit-learn.org/stable/modules/preprocessing.html\n",
            "Please also refer to the documentation for alternative solver options:\n",
            "    https://scikit-learn.org/stable/modules/linear_model.html#logistic-regression\n",
            "  extra_warning_msg=_LOGISTIC_SOLVER_CONVERGENCE_MSG)\n",
            "/usr/local/lib/python3.7/dist-packages/sklearn/linear_model/_sag.py:329: ConvergenceWarning: The max_iter was reached which means the coef_ did not converge\n",
            "  \"the coef_ did not converge\", ConvergenceWarning)\n",
            "/usr/local/lib/python3.7/dist-packages/sklearn/linear_model/_sag.py:329: ConvergenceWarning: The max_iter was reached which means the coef_ did not converge\n",
            "  \"the coef_ did not converge\", ConvergenceWarning)\n",
            "/usr/local/lib/python3.7/dist-packages/sklearn/linear_model/_sag.py:329: ConvergenceWarning: The max_iter was reached which means the coef_ did not converge\n",
            "  \"the coef_ did not converge\", ConvergenceWarning)\n",
            "/usr/local/lib/python3.7/dist-packages/sklearn/linear_model/_sag.py:329: ConvergenceWarning: The max_iter was reached which means the coef_ did not converge\n",
            "  \"the coef_ did not converge\", ConvergenceWarning)\n",
            "/usr/local/lib/python3.7/dist-packages/sklearn/linear_model/_sag.py:329: ConvergenceWarning: The max_iter was reached which means the coef_ did not converge\n",
            "  \"the coef_ did not converge\", ConvergenceWarning)\n",
            "/usr/local/lib/python3.7/dist-packages/sklearn/linear_model/_sag.py:329: ConvergenceWarning: The max_iter was reached which means the coef_ did not converge\n",
            "  \"the coef_ did not converge\", ConvergenceWarning)\n",
            "/usr/local/lib/python3.7/dist-packages/sklearn/linear_model/_sag.py:329: ConvergenceWarning: The max_iter was reached which means the coef_ did not converge\n",
            "  \"the coef_ did not converge\", ConvergenceWarning)\n",
            "/usr/local/lib/python3.7/dist-packages/sklearn/linear_model/_sag.py:329: ConvergenceWarning: The max_iter was reached which means the coef_ did not converge\n",
            "  \"the coef_ did not converge\", ConvergenceWarning)\n",
            "/usr/local/lib/python3.7/dist-packages/sklearn/linear_model/_sag.py:329: ConvergenceWarning: The max_iter was reached which means the coef_ did not converge\n",
            "  \"the coef_ did not converge\", ConvergenceWarning)\n",
            "/usr/local/lib/python3.7/dist-packages/sklearn/linear_model/_sag.py:329: ConvergenceWarning: The max_iter was reached which means the coef_ did not converge\n",
            "  \"the coef_ did not converge\", ConvergenceWarning)\n",
            "/usr/local/lib/python3.7/dist-packages/sklearn/linear_model/_sag.py:329: ConvergenceWarning: The max_iter was reached which means the coef_ did not converge\n",
            "  \"the coef_ did not converge\", ConvergenceWarning)\n",
            "/usr/local/lib/python3.7/dist-packages/sklearn/linear_model/_sag.py:329: ConvergenceWarning: The max_iter was reached which means the coef_ did not converge\n",
            "  \"the coef_ did not converge\", ConvergenceWarning)\n",
            "/usr/local/lib/python3.7/dist-packages/sklearn/linear_model/_sag.py:329: ConvergenceWarning: The max_iter was reached which means the coef_ did not converge\n",
            "  \"the coef_ did not converge\", ConvergenceWarning)\n",
            "/usr/local/lib/python3.7/dist-packages/sklearn/linear_model/_sag.py:329: ConvergenceWarning: The max_iter was reached which means the coef_ did not converge\n",
            "  \"the coef_ did not converge\", ConvergenceWarning)\n",
            "/usr/local/lib/python3.7/dist-packages/sklearn/linear_model/_sag.py:329: ConvergenceWarning: The max_iter was reached which means the coef_ did not converge\n",
            "  \"the coef_ did not converge\", ConvergenceWarning)\n",
            "/usr/local/lib/python3.7/dist-packages/sklearn/linear_model/_sag.py:329: ConvergenceWarning: The max_iter was reached which means the coef_ did not converge\n",
            "  \"the coef_ did not converge\", ConvergenceWarning)\n",
            "/usr/local/lib/python3.7/dist-packages/sklearn/linear_model/_sag.py:329: ConvergenceWarning: The max_iter was reached which means the coef_ did not converge\n",
            "  \"the coef_ did not converge\", ConvergenceWarning)\n",
            "/usr/local/lib/python3.7/dist-packages/sklearn/linear_model/_sag.py:329: ConvergenceWarning: The max_iter was reached which means the coef_ did not converge\n",
            "  \"the coef_ did not converge\", ConvergenceWarning)\n",
            "/usr/local/lib/python3.7/dist-packages/sklearn/linear_model/_sag.py:329: ConvergenceWarning: The max_iter was reached which means the coef_ did not converge\n",
            "  \"the coef_ did not converge\", ConvergenceWarning)\n",
            "/usr/local/lib/python3.7/dist-packages/sklearn/linear_model/_sag.py:329: ConvergenceWarning: The max_iter was reached which means the coef_ did not converge\n",
            "  \"the coef_ did not converge\", ConvergenceWarning)\n",
            "/usr/local/lib/python3.7/dist-packages/sklearn/linear_model/_sag.py:329: ConvergenceWarning: The max_iter was reached which means the coef_ did not converge\n",
            "  \"the coef_ did not converge\", ConvergenceWarning)\n",
            "/usr/local/lib/python3.7/dist-packages/sklearn/linear_model/_sag.py:329: ConvergenceWarning: The max_iter was reached which means the coef_ did not converge\n",
            "  \"the coef_ did not converge\", ConvergenceWarning)\n",
            "/usr/local/lib/python3.7/dist-packages/sklearn/linear_model/_sag.py:329: ConvergenceWarning: The max_iter was reached which means the coef_ did not converge\n",
            "  \"the coef_ did not converge\", ConvergenceWarning)\n",
            "/usr/local/lib/python3.7/dist-packages/sklearn/linear_model/_sag.py:329: ConvergenceWarning: The max_iter was reached which means the coef_ did not converge\n",
            "  \"the coef_ did not converge\", ConvergenceWarning)\n",
            "/usr/local/lib/python3.7/dist-packages/sklearn/linear_model/_sag.py:329: ConvergenceWarning: The max_iter was reached which means the coef_ did not converge\n",
            "  \"the coef_ did not converge\", ConvergenceWarning)\n",
            "/usr/local/lib/python3.7/dist-packages/sklearn/linear_model/_sag.py:329: ConvergenceWarning: The max_iter was reached which means the coef_ did not converge\n",
            "  \"the coef_ did not converge\", ConvergenceWarning)\n",
            "/usr/local/lib/python3.7/dist-packages/sklearn/linear_model/_sag.py:329: ConvergenceWarning: The max_iter was reached which means the coef_ did not converge\n",
            "  \"the coef_ did not converge\", ConvergenceWarning)\n",
            "/usr/local/lib/python3.7/dist-packages/sklearn/linear_model/_sag.py:329: ConvergenceWarning: The max_iter was reached which means the coef_ did not converge\n",
            "  \"the coef_ did not converge\", ConvergenceWarning)\n",
            "/usr/local/lib/python3.7/dist-packages/sklearn/linear_model/_sag.py:329: ConvergenceWarning: The max_iter was reached which means the coef_ did not converge\n",
            "  \"the coef_ did not converge\", ConvergenceWarning)\n",
            "/usr/local/lib/python3.7/dist-packages/sklearn/linear_model/_sag.py:329: ConvergenceWarning: The max_iter was reached which means the coef_ did not converge\n",
            "  \"the coef_ did not converge\", ConvergenceWarning)\n",
            "/usr/local/lib/python3.7/dist-packages/sklearn/linear_model/_logistic.py:765: ConvergenceWarning: lbfgs failed to converge (status=1):\n",
            "STOP: TOTAL NO. of ITERATIONS REACHED LIMIT.\n",
            "\n",
            "Increase the number of iterations (max_iter) or scale the data as shown in:\n",
            "    https://scikit-learn.org/stable/modules/preprocessing.html\n",
            "Please also refer to the documentation for alternative solver options:\n",
            "    https://scikit-learn.org/stable/modules/linear_model.html#logistic-regression\n",
            "  extra_warning_msg=_LOGISTIC_SOLVER_CONVERGENCE_MSG)\n",
            "/usr/local/lib/python3.7/dist-packages/sklearn/linear_model/_logistic.py:765: ConvergenceWarning: lbfgs failed to converge (status=1):\n",
            "STOP: TOTAL NO. of ITERATIONS REACHED LIMIT.\n",
            "\n",
            "Increase the number of iterations (max_iter) or scale the data as shown in:\n",
            "    https://scikit-learn.org/stable/modules/preprocessing.html\n",
            "Please also refer to the documentation for alternative solver options:\n",
            "    https://scikit-learn.org/stable/modules/linear_model.html#logistic-regression\n",
            "  extra_warning_msg=_LOGISTIC_SOLVER_CONVERGENCE_MSG)\n",
            "/usr/local/lib/python3.7/dist-packages/sklearn/linear_model/_logistic.py:765: ConvergenceWarning: lbfgs failed to converge (status=1):\n",
            "STOP: TOTAL NO. of ITERATIONS REACHED LIMIT.\n",
            "\n",
            "Increase the number of iterations (max_iter) or scale the data as shown in:\n",
            "    https://scikit-learn.org/stable/modules/preprocessing.html\n",
            "Please also refer to the documentation for alternative solver options:\n",
            "    https://scikit-learn.org/stable/modules/linear_model.html#logistic-regression\n",
            "  extra_warning_msg=_LOGISTIC_SOLVER_CONVERGENCE_MSG)\n",
            "/usr/local/lib/python3.7/dist-packages/sklearn/linear_model/_logistic.py:765: ConvergenceWarning: lbfgs failed to converge (status=1):\n",
            "STOP: TOTAL NO. of ITERATIONS REACHED LIMIT.\n",
            "\n",
            "Increase the number of iterations (max_iter) or scale the data as shown in:\n",
            "    https://scikit-learn.org/stable/modules/preprocessing.html\n",
            "Please also refer to the documentation for alternative solver options:\n",
            "    https://scikit-learn.org/stable/modules/linear_model.html#logistic-regression\n",
            "  extra_warning_msg=_LOGISTIC_SOLVER_CONVERGENCE_MSG)\n",
            "/usr/local/lib/python3.7/dist-packages/sklearn/linear_model/_sag.py:329: ConvergenceWarning: The max_iter was reached which means the coef_ did not converge\n",
            "  \"the coef_ did not converge\", ConvergenceWarning)\n",
            "/usr/local/lib/python3.7/dist-packages/sklearn/linear_model/_sag.py:329: ConvergenceWarning: The max_iter was reached which means the coef_ did not converge\n",
            "  \"the coef_ did not converge\", ConvergenceWarning)\n",
            "/usr/local/lib/python3.7/dist-packages/sklearn/linear_model/_sag.py:329: ConvergenceWarning: The max_iter was reached which means the coef_ did not converge\n",
            "  \"the coef_ did not converge\", ConvergenceWarning)\n",
            "/usr/local/lib/python3.7/dist-packages/sklearn/linear_model/_sag.py:329: ConvergenceWarning: The max_iter was reached which means the coef_ did not converge\n",
            "  \"the coef_ did not converge\", ConvergenceWarning)\n",
            "/usr/local/lib/python3.7/dist-packages/sklearn/linear_model/_sag.py:329: ConvergenceWarning: The max_iter was reached which means the coef_ did not converge\n",
            "  \"the coef_ did not converge\", ConvergenceWarning)\n",
            "/usr/local/lib/python3.7/dist-packages/sklearn/model_selection/_validation.py:619: FitFailedWarning: Estimator fit failed. The score on this train-test partition for these parameters will be set to nan. Details: \n",
            "Traceback (most recent call last):\n",
            "  File \"/usr/local/lib/python3.7/dist-packages/sklearn/model_selection/_validation.py\", line 598, in _fit_and_score\n",
            "    estimator.fit(X_train, y_train, **fit_params)\n",
            "  File \"/usr/local/lib/python3.7/dist-packages/sklearn/linear_model/_logistic.py\", line 1351, in fit\n",
            "    len(self.classes_))\n",
            "  File \"/usr/local/lib/python3.7/dist-packages/sklearn/linear_model/_logistic.py\", line 474, in _check_multi_class\n",
            "    \"a multinomial backend.\" % solver)\n",
            "ValueError: Solver liblinear does not support a multinomial backend.\n",
            "\n",
            "  FitFailedWarning)\n",
            "/usr/local/lib/python3.7/dist-packages/sklearn/model_selection/_validation.py:619: FitFailedWarning: Estimator fit failed. The score on this train-test partition for these parameters will be set to nan. Details: \n",
            "Traceback (most recent call last):\n",
            "  File \"/usr/local/lib/python3.7/dist-packages/sklearn/model_selection/_validation.py\", line 598, in _fit_and_score\n",
            "    estimator.fit(X_train, y_train, **fit_params)\n",
            "  File \"/usr/local/lib/python3.7/dist-packages/sklearn/linear_model/_logistic.py\", line 1351, in fit\n",
            "    len(self.classes_))\n",
            "  File \"/usr/local/lib/python3.7/dist-packages/sklearn/linear_model/_logistic.py\", line 474, in _check_multi_class\n",
            "    \"a multinomial backend.\" % solver)\n",
            "ValueError: Solver liblinear does not support a multinomial backend.\n",
            "\n",
            "  FitFailedWarning)\n",
            "/usr/local/lib/python3.7/dist-packages/sklearn/model_selection/_validation.py:619: FitFailedWarning: Estimator fit failed. The score on this train-test partition for these parameters will be set to nan. Details: \n",
            "Traceback (most recent call last):\n",
            "  File \"/usr/local/lib/python3.7/dist-packages/sklearn/model_selection/_validation.py\", line 598, in _fit_and_score\n",
            "    estimator.fit(X_train, y_train, **fit_params)\n",
            "  File \"/usr/local/lib/python3.7/dist-packages/sklearn/linear_model/_logistic.py\", line 1351, in fit\n",
            "    len(self.classes_))\n",
            "  File \"/usr/local/lib/python3.7/dist-packages/sklearn/linear_model/_logistic.py\", line 474, in _check_multi_class\n",
            "    \"a multinomial backend.\" % solver)\n",
            "ValueError: Solver liblinear does not support a multinomial backend.\n",
            "\n",
            "  FitFailedWarning)\n",
            "/usr/local/lib/python3.7/dist-packages/sklearn/model_selection/_validation.py:619: FitFailedWarning: Estimator fit failed. The score on this train-test partition for these parameters will be set to nan. Details: \n",
            "Traceback (most recent call last):\n",
            "  File \"/usr/local/lib/python3.7/dist-packages/sklearn/model_selection/_validation.py\", line 598, in _fit_and_score\n",
            "    estimator.fit(X_train, y_train, **fit_params)\n",
            "  File \"/usr/local/lib/python3.7/dist-packages/sklearn/linear_model/_logistic.py\", line 1351, in fit\n",
            "    len(self.classes_))\n",
            "  File \"/usr/local/lib/python3.7/dist-packages/sklearn/linear_model/_logistic.py\", line 474, in _check_multi_class\n",
            "    \"a multinomial backend.\" % solver)\n",
            "ValueError: Solver liblinear does not support a multinomial backend.\n",
            "\n",
            "  FitFailedWarning)\n",
            "/usr/local/lib/python3.7/dist-packages/sklearn/model_selection/_validation.py:619: FitFailedWarning: Estimator fit failed. The score on this train-test partition for these parameters will be set to nan. Details: \n",
            "Traceback (most recent call last):\n",
            "  File \"/usr/local/lib/python3.7/dist-packages/sklearn/model_selection/_validation.py\", line 598, in _fit_and_score\n",
            "    estimator.fit(X_train, y_train, **fit_params)\n",
            "  File \"/usr/local/lib/python3.7/dist-packages/sklearn/linear_model/_logistic.py\", line 1351, in fit\n",
            "    len(self.classes_))\n",
            "  File \"/usr/local/lib/python3.7/dist-packages/sklearn/linear_model/_logistic.py\", line 474, in _check_multi_class\n",
            "    \"a multinomial backend.\" % solver)\n",
            "ValueError: Solver liblinear does not support a multinomial backend.\n",
            "\n",
            "  FitFailedWarning)\n",
            "/usr/local/lib/python3.7/dist-packages/sklearn/linear_model/_sag.py:329: ConvergenceWarning: The max_iter was reached which means the coef_ did not converge\n",
            "  \"the coef_ did not converge\", ConvergenceWarning)\n",
            "/usr/local/lib/python3.7/dist-packages/sklearn/linear_model/_sag.py:329: ConvergenceWarning: The max_iter was reached which means the coef_ did not converge\n",
            "  \"the coef_ did not converge\", ConvergenceWarning)\n",
            "/usr/local/lib/python3.7/dist-packages/sklearn/linear_model/_sag.py:329: ConvergenceWarning: The max_iter was reached which means the coef_ did not converge\n",
            "  \"the coef_ did not converge\", ConvergenceWarning)\n",
            "/usr/local/lib/python3.7/dist-packages/sklearn/linear_model/_sag.py:329: ConvergenceWarning: The max_iter was reached which means the coef_ did not converge\n",
            "  \"the coef_ did not converge\", ConvergenceWarning)\n",
            "/usr/local/lib/python3.7/dist-packages/sklearn/linear_model/_sag.py:329: ConvergenceWarning: The max_iter was reached which means the coef_ did not converge\n",
            "  \"the coef_ did not converge\", ConvergenceWarning)\n",
            "/usr/local/lib/python3.7/dist-packages/sklearn/linear_model/_sag.py:329: ConvergenceWarning: The max_iter was reached which means the coef_ did not converge\n",
            "  \"the coef_ did not converge\", ConvergenceWarning)\n",
            "/usr/local/lib/python3.7/dist-packages/sklearn/linear_model/_sag.py:329: ConvergenceWarning: The max_iter was reached which means the coef_ did not converge\n",
            "  \"the coef_ did not converge\", ConvergenceWarning)\n",
            "/usr/local/lib/python3.7/dist-packages/sklearn/linear_model/_sag.py:329: ConvergenceWarning: The max_iter was reached which means the coef_ did not converge\n",
            "  \"the coef_ did not converge\", ConvergenceWarning)\n",
            "/usr/local/lib/python3.7/dist-packages/sklearn/linear_model/_sag.py:329: ConvergenceWarning: The max_iter was reached which means the coef_ did not converge\n",
            "  \"the coef_ did not converge\", ConvergenceWarning)\n",
            "/usr/local/lib/python3.7/dist-packages/sklearn/linear_model/_sag.py:329: ConvergenceWarning: The max_iter was reached which means the coef_ did not converge\n",
            "  \"the coef_ did not converge\", ConvergenceWarning)\n",
            "/usr/local/lib/python3.7/dist-packages/sklearn/linear_model/_sag.py:329: ConvergenceWarning: The max_iter was reached which means the coef_ did not converge\n",
            "  \"the coef_ did not converge\", ConvergenceWarning)\n",
            "/usr/local/lib/python3.7/dist-packages/sklearn/linear_model/_sag.py:329: ConvergenceWarning: The max_iter was reached which means the coef_ did not converge\n",
            "  \"the coef_ did not converge\", ConvergenceWarning)\n",
            "/usr/local/lib/python3.7/dist-packages/sklearn/linear_model/_sag.py:329: ConvergenceWarning: The max_iter was reached which means the coef_ did not converge\n",
            "  \"the coef_ did not converge\", ConvergenceWarning)\n",
            "/usr/local/lib/python3.7/dist-packages/sklearn/linear_model/_sag.py:329: ConvergenceWarning: The max_iter was reached which means the coef_ did not converge\n",
            "  \"the coef_ did not converge\", ConvergenceWarning)\n",
            "/usr/local/lib/python3.7/dist-packages/sklearn/linear_model/_sag.py:329: ConvergenceWarning: The max_iter was reached which means the coef_ did not converge\n",
            "  \"the coef_ did not converge\", ConvergenceWarning)\n",
            "/usr/local/lib/python3.7/dist-packages/sklearn/linear_model/_sag.py:329: ConvergenceWarning: The max_iter was reached which means the coef_ did not converge\n",
            "  \"the coef_ did not converge\", ConvergenceWarning)\n",
            "/usr/local/lib/python3.7/dist-packages/sklearn/linear_model/_sag.py:329: ConvergenceWarning: The max_iter was reached which means the coef_ did not converge\n",
            "  \"the coef_ did not converge\", ConvergenceWarning)\n",
            "/usr/local/lib/python3.7/dist-packages/sklearn/linear_model/_sag.py:329: ConvergenceWarning: The max_iter was reached which means the coef_ did not converge\n",
            "  \"the coef_ did not converge\", ConvergenceWarning)\n",
            "/usr/local/lib/python3.7/dist-packages/sklearn/linear_model/_sag.py:329: ConvergenceWarning: The max_iter was reached which means the coef_ did not converge\n",
            "  \"the coef_ did not converge\", ConvergenceWarning)\n",
            "/usr/local/lib/python3.7/dist-packages/sklearn/linear_model/_sag.py:329: ConvergenceWarning: The max_iter was reached which means the coef_ did not converge\n",
            "  \"the coef_ did not converge\", ConvergenceWarning)\n",
            "/usr/local/lib/python3.7/dist-packages/sklearn/linear_model/_sag.py:329: ConvergenceWarning: The max_iter was reached which means the coef_ did not converge\n",
            "  \"the coef_ did not converge\", ConvergenceWarning)\n",
            "/usr/local/lib/python3.7/dist-packages/sklearn/linear_model/_sag.py:329: ConvergenceWarning: The max_iter was reached which means the coef_ did not converge\n",
            "  \"the coef_ did not converge\", ConvergenceWarning)\n",
            "/usr/local/lib/python3.7/dist-packages/sklearn/linear_model/_sag.py:329: ConvergenceWarning: The max_iter was reached which means the coef_ did not converge\n",
            "  \"the coef_ did not converge\", ConvergenceWarning)\n",
            "/usr/local/lib/python3.7/dist-packages/sklearn/linear_model/_sag.py:329: ConvergenceWarning: The max_iter was reached which means the coef_ did not converge\n",
            "  \"the coef_ did not converge\", ConvergenceWarning)\n",
            "/usr/local/lib/python3.7/dist-packages/sklearn/linear_model/_sag.py:329: ConvergenceWarning: The max_iter was reached which means the coef_ did not converge\n",
            "  \"the coef_ did not converge\", ConvergenceWarning)\n",
            "/usr/local/lib/python3.7/dist-packages/sklearn/linear_model/_sag.py:329: ConvergenceWarning: The max_iter was reached which means the coef_ did not converge\n",
            "  \"the coef_ did not converge\", ConvergenceWarning)\n",
            "/usr/local/lib/python3.7/dist-packages/sklearn/linear_model/_sag.py:329: ConvergenceWarning: The max_iter was reached which means the coef_ did not converge\n",
            "  \"the coef_ did not converge\", ConvergenceWarning)\n",
            "/usr/local/lib/python3.7/dist-packages/sklearn/linear_model/_sag.py:329: ConvergenceWarning: The max_iter was reached which means the coef_ did not converge\n",
            "  \"the coef_ did not converge\", ConvergenceWarning)\n",
            "/usr/local/lib/python3.7/dist-packages/sklearn/linear_model/_sag.py:329: ConvergenceWarning: The max_iter was reached which means the coef_ did not converge\n",
            "  \"the coef_ did not converge\", ConvergenceWarning)\n",
            "/usr/local/lib/python3.7/dist-packages/sklearn/linear_model/_sag.py:329: ConvergenceWarning: The max_iter was reached which means the coef_ did not converge\n",
            "  \"the coef_ did not converge\", ConvergenceWarning)\n",
            "/usr/local/lib/python3.7/dist-packages/sklearn/linear_model/_sag.py:329: ConvergenceWarning: The max_iter was reached which means the coef_ did not converge\n",
            "  \"the coef_ did not converge\", ConvergenceWarning)\n",
            "/usr/local/lib/python3.7/dist-packages/sklearn/linear_model/_sag.py:329: ConvergenceWarning: The max_iter was reached which means the coef_ did not converge\n",
            "  \"the coef_ did not converge\", ConvergenceWarning)\n",
            "/usr/local/lib/python3.7/dist-packages/sklearn/linear_model/_sag.py:329: ConvergenceWarning: The max_iter was reached which means the coef_ did not converge\n",
            "  \"the coef_ did not converge\", ConvergenceWarning)\n",
            "/usr/local/lib/python3.7/dist-packages/sklearn/linear_model/_sag.py:329: ConvergenceWarning: The max_iter was reached which means the coef_ did not converge\n",
            "  \"the coef_ did not converge\", ConvergenceWarning)\n",
            "/usr/local/lib/python3.7/dist-packages/sklearn/linear_model/_sag.py:329: ConvergenceWarning: The max_iter was reached which means the coef_ did not converge\n",
            "  \"the coef_ did not converge\", ConvergenceWarning)\n",
            "/usr/local/lib/python3.7/dist-packages/sklearn/model_selection/_validation.py:619: FitFailedWarning: Estimator fit failed. The score on this train-test partition for these parameters will be set to nan. Details: \n",
            "Traceback (most recent call last):\n",
            "  File \"/usr/local/lib/python3.7/dist-packages/sklearn/model_selection/_validation.py\", line 598, in _fit_and_score\n",
            "    estimator.fit(X_train, y_train, **fit_params)\n",
            "  File \"/usr/local/lib/python3.7/dist-packages/sklearn/linear_model/_logistic.py\", line 1351, in fit\n",
            "    len(self.classes_))\n",
            "  File \"/usr/local/lib/python3.7/dist-packages/sklearn/linear_model/_logistic.py\", line 474, in _check_multi_class\n",
            "    \"a multinomial backend.\" % solver)\n",
            "ValueError: Solver liblinear does not support a multinomial backend.\n",
            "\n",
            "  FitFailedWarning)\n",
            "/usr/local/lib/python3.7/dist-packages/sklearn/model_selection/_validation.py:619: FitFailedWarning: Estimator fit failed. The score on this train-test partition for these parameters will be set to nan. Details: \n",
            "Traceback (most recent call last):\n",
            "  File \"/usr/local/lib/python3.7/dist-packages/sklearn/model_selection/_validation.py\", line 598, in _fit_and_score\n",
            "    estimator.fit(X_train, y_train, **fit_params)\n",
            "  File \"/usr/local/lib/python3.7/dist-packages/sklearn/linear_model/_logistic.py\", line 1351, in fit\n",
            "    len(self.classes_))\n",
            "  File \"/usr/local/lib/python3.7/dist-packages/sklearn/linear_model/_logistic.py\", line 474, in _check_multi_class\n",
            "    \"a multinomial backend.\" % solver)\n",
            "ValueError: Solver liblinear does not support a multinomial backend.\n",
            "\n",
            "  FitFailedWarning)\n",
            "/usr/local/lib/python3.7/dist-packages/sklearn/model_selection/_validation.py:619: FitFailedWarning: Estimator fit failed. The score on this train-test partition for these parameters will be set to nan. Details: \n",
            "Traceback (most recent call last):\n",
            "  File \"/usr/local/lib/python3.7/dist-packages/sklearn/model_selection/_validation.py\", line 598, in _fit_and_score\n",
            "    estimator.fit(X_train, y_train, **fit_params)\n",
            "  File \"/usr/local/lib/python3.7/dist-packages/sklearn/linear_model/_logistic.py\", line 1351, in fit\n",
            "    len(self.classes_))\n",
            "  File \"/usr/local/lib/python3.7/dist-packages/sklearn/linear_model/_logistic.py\", line 474, in _check_multi_class\n",
            "    \"a multinomial backend.\" % solver)\n",
            "ValueError: Solver liblinear does not support a multinomial backend.\n",
            "\n",
            "  FitFailedWarning)\n",
            "/usr/local/lib/python3.7/dist-packages/sklearn/model_selection/_validation.py:619: FitFailedWarning: Estimator fit failed. The score on this train-test partition for these parameters will be set to nan. Details: \n",
            "Traceback (most recent call last):\n",
            "  File \"/usr/local/lib/python3.7/dist-packages/sklearn/model_selection/_validation.py\", line 598, in _fit_and_score\n",
            "    estimator.fit(X_train, y_train, **fit_params)\n",
            "  File \"/usr/local/lib/python3.7/dist-packages/sklearn/linear_model/_logistic.py\", line 1351, in fit\n",
            "    len(self.classes_))\n",
            "  File \"/usr/local/lib/python3.7/dist-packages/sklearn/linear_model/_logistic.py\", line 474, in _check_multi_class\n",
            "    \"a multinomial backend.\" % solver)\n",
            "ValueError: Solver liblinear does not support a multinomial backend.\n",
            "\n",
            "  FitFailedWarning)\n",
            "/usr/local/lib/python3.7/dist-packages/sklearn/model_selection/_validation.py:619: FitFailedWarning: Estimator fit failed. The score on this train-test partition for these parameters will be set to nan. Details: \n",
            "Traceback (most recent call last):\n",
            "  File \"/usr/local/lib/python3.7/dist-packages/sklearn/model_selection/_validation.py\", line 598, in _fit_and_score\n",
            "    estimator.fit(X_train, y_train, **fit_params)\n",
            "  File \"/usr/local/lib/python3.7/dist-packages/sklearn/linear_model/_logistic.py\", line 1351, in fit\n",
            "    len(self.classes_))\n",
            "  File \"/usr/local/lib/python3.7/dist-packages/sklearn/linear_model/_logistic.py\", line 474, in _check_multi_class\n",
            "    \"a multinomial backend.\" % solver)\n",
            "ValueError: Solver liblinear does not support a multinomial backend.\n",
            "\n",
            "  FitFailedWarning)\n",
            "/usr/local/lib/python3.7/dist-packages/sklearn/linear_model/_sag.py:329: ConvergenceWarning: The max_iter was reached which means the coef_ did not converge\n",
            "  \"the coef_ did not converge\", ConvergenceWarning)\n",
            "/usr/local/lib/python3.7/dist-packages/sklearn/linear_model/_sag.py:329: ConvergenceWarning: The max_iter was reached which means the coef_ did not converge\n",
            "  \"the coef_ did not converge\", ConvergenceWarning)\n",
            "/usr/local/lib/python3.7/dist-packages/sklearn/linear_model/_sag.py:329: ConvergenceWarning: The max_iter was reached which means the coef_ did not converge\n",
            "  \"the coef_ did not converge\", ConvergenceWarning)\n",
            "/usr/local/lib/python3.7/dist-packages/sklearn/linear_model/_sag.py:329: ConvergenceWarning: The max_iter was reached which means the coef_ did not converge\n",
            "  \"the coef_ did not converge\", ConvergenceWarning)\n",
            "/usr/local/lib/python3.7/dist-packages/sklearn/linear_model/_sag.py:329: ConvergenceWarning: The max_iter was reached which means the coef_ did not converge\n",
            "  \"the coef_ did not converge\", ConvergenceWarning)\n",
            "/usr/local/lib/python3.7/dist-packages/sklearn/linear_model/_sag.py:329: ConvergenceWarning: The max_iter was reached which means the coef_ did not converge\n",
            "  \"the coef_ did not converge\", ConvergenceWarning)\n",
            "/usr/local/lib/python3.7/dist-packages/sklearn/linear_model/_sag.py:329: ConvergenceWarning: The max_iter was reached which means the coef_ did not converge\n",
            "  \"the coef_ did not converge\", ConvergenceWarning)\n",
            "/usr/local/lib/python3.7/dist-packages/sklearn/linear_model/_sag.py:329: ConvergenceWarning: The max_iter was reached which means the coef_ did not converge\n",
            "  \"the coef_ did not converge\", ConvergenceWarning)\n",
            "/usr/local/lib/python3.7/dist-packages/sklearn/linear_model/_sag.py:329: ConvergenceWarning: The max_iter was reached which means the coef_ did not converge\n",
            "  \"the coef_ did not converge\", ConvergenceWarning)\n",
            "/usr/local/lib/python3.7/dist-packages/sklearn/linear_model/_sag.py:329: ConvergenceWarning: The max_iter was reached which means the coef_ did not converge\n",
            "  \"the coef_ did not converge\", ConvergenceWarning)\n",
            "/usr/local/lib/python3.7/dist-packages/sklearn/linear_model/_sag.py:329: ConvergenceWarning: The max_iter was reached which means the coef_ did not converge\n",
            "  \"the coef_ did not converge\", ConvergenceWarning)\n",
            "/usr/local/lib/python3.7/dist-packages/sklearn/linear_model/_sag.py:329: ConvergenceWarning: The max_iter was reached which means the coef_ did not converge\n",
            "  \"the coef_ did not converge\", ConvergenceWarning)\n",
            "/usr/local/lib/python3.7/dist-packages/sklearn/linear_model/_sag.py:329: ConvergenceWarning: The max_iter was reached which means the coef_ did not converge\n",
            "  \"the coef_ did not converge\", ConvergenceWarning)\n",
            "/usr/local/lib/python3.7/dist-packages/sklearn/linear_model/_sag.py:329: ConvergenceWarning: The max_iter was reached which means the coef_ did not converge\n",
            "  \"the coef_ did not converge\", ConvergenceWarning)\n",
            "/usr/local/lib/python3.7/dist-packages/sklearn/linear_model/_sag.py:329: ConvergenceWarning: The max_iter was reached which means the coef_ did not converge\n",
            "  \"the coef_ did not converge\", ConvergenceWarning)\n",
            "/usr/local/lib/python3.7/dist-packages/sklearn/linear_model/_sag.py:329: ConvergenceWarning: The max_iter was reached which means the coef_ did not converge\n",
            "  \"the coef_ did not converge\", ConvergenceWarning)\n",
            "/usr/local/lib/python3.7/dist-packages/sklearn/linear_model/_sag.py:329: ConvergenceWarning: The max_iter was reached which means the coef_ did not converge\n",
            "  \"the coef_ did not converge\", ConvergenceWarning)\n",
            "/usr/local/lib/python3.7/dist-packages/sklearn/linear_model/_sag.py:329: ConvergenceWarning: The max_iter was reached which means the coef_ did not converge\n",
            "  \"the coef_ did not converge\", ConvergenceWarning)\n",
            "/usr/local/lib/python3.7/dist-packages/sklearn/linear_model/_sag.py:329: ConvergenceWarning: The max_iter was reached which means the coef_ did not converge\n",
            "  \"the coef_ did not converge\", ConvergenceWarning)\n",
            "/usr/local/lib/python3.7/dist-packages/sklearn/linear_model/_sag.py:329: ConvergenceWarning: The max_iter was reached which means the coef_ did not converge\n",
            "  \"the coef_ did not converge\", ConvergenceWarning)\n",
            "/usr/local/lib/python3.7/dist-packages/sklearn/linear_model/_sag.py:329: ConvergenceWarning: The max_iter was reached which means the coef_ did not converge\n",
            "  \"the coef_ did not converge\", ConvergenceWarning)\n",
            "/usr/local/lib/python3.7/dist-packages/sklearn/linear_model/_sag.py:329: ConvergenceWarning: The max_iter was reached which means the coef_ did not converge\n",
            "  \"the coef_ did not converge\", ConvergenceWarning)\n",
            "/usr/local/lib/python3.7/dist-packages/sklearn/linear_model/_sag.py:329: ConvergenceWarning: The max_iter was reached which means the coef_ did not converge\n",
            "  \"the coef_ did not converge\", ConvergenceWarning)\n",
            "/usr/local/lib/python3.7/dist-packages/sklearn/linear_model/_sag.py:329: ConvergenceWarning: The max_iter was reached which means the coef_ did not converge\n",
            "  \"the coef_ did not converge\", ConvergenceWarning)\n",
            "/usr/local/lib/python3.7/dist-packages/sklearn/linear_model/_sag.py:329: ConvergenceWarning: The max_iter was reached which means the coef_ did not converge\n",
            "  \"the coef_ did not converge\", ConvergenceWarning)\n",
            "/usr/local/lib/python3.7/dist-packages/sklearn/linear_model/_sag.py:329: ConvergenceWarning: The max_iter was reached which means the coef_ did not converge\n",
            "  \"the coef_ did not converge\", ConvergenceWarning)\n",
            "/usr/local/lib/python3.7/dist-packages/sklearn/linear_model/_sag.py:329: ConvergenceWarning: The max_iter was reached which means the coef_ did not converge\n",
            "  \"the coef_ did not converge\", ConvergenceWarning)\n",
            "/usr/local/lib/python3.7/dist-packages/sklearn/linear_model/_sag.py:329: ConvergenceWarning: The max_iter was reached which means the coef_ did not converge\n",
            "  \"the coef_ did not converge\", ConvergenceWarning)\n",
            "/usr/local/lib/python3.7/dist-packages/sklearn/linear_model/_sag.py:329: ConvergenceWarning: The max_iter was reached which means the coef_ did not converge\n",
            "  \"the coef_ did not converge\", ConvergenceWarning)\n",
            "/usr/local/lib/python3.7/dist-packages/sklearn/linear_model/_sag.py:329: ConvergenceWarning: The max_iter was reached which means the coef_ did not converge\n",
            "  \"the coef_ did not converge\", ConvergenceWarning)\n",
            "/usr/local/lib/python3.7/dist-packages/sklearn/linear_model/_sag.py:329: ConvergenceWarning: The max_iter was reached which means the coef_ did not converge\n",
            "  \"the coef_ did not converge\", ConvergenceWarning)\n",
            "/usr/local/lib/python3.7/dist-packages/sklearn/linear_model/_sag.py:329: ConvergenceWarning: The max_iter was reached which means the coef_ did not converge\n",
            "  \"the coef_ did not converge\", ConvergenceWarning)\n",
            "/usr/local/lib/python3.7/dist-packages/sklearn/linear_model/_sag.py:329: ConvergenceWarning: The max_iter was reached which means the coef_ did not converge\n",
            "  \"the coef_ did not converge\", ConvergenceWarning)\n",
            "/usr/local/lib/python3.7/dist-packages/sklearn/linear_model/_sag.py:329: ConvergenceWarning: The max_iter was reached which means the coef_ did not converge\n",
            "  \"the coef_ did not converge\", ConvergenceWarning)\n",
            "/usr/local/lib/python3.7/dist-packages/sklearn/linear_model/_sag.py:329: ConvergenceWarning: The max_iter was reached which means the coef_ did not converge\n",
            "  \"the coef_ did not converge\", ConvergenceWarning)\n",
            "/usr/local/lib/python3.7/dist-packages/sklearn/model_selection/_validation.py:619: FitFailedWarning: Estimator fit failed. The score on this train-test partition for these parameters will be set to nan. Details: \n",
            "Traceback (most recent call last):\n",
            "  File \"/usr/local/lib/python3.7/dist-packages/sklearn/model_selection/_validation.py\", line 598, in _fit_and_score\n",
            "    estimator.fit(X_train, y_train, **fit_params)\n",
            "  File \"/usr/local/lib/python3.7/dist-packages/sklearn/linear_model/_logistic.py\", line 1351, in fit\n",
            "    len(self.classes_))\n",
            "  File \"/usr/local/lib/python3.7/dist-packages/sklearn/linear_model/_logistic.py\", line 474, in _check_multi_class\n",
            "    \"a multinomial backend.\" % solver)\n",
            "ValueError: Solver liblinear does not support a multinomial backend.\n",
            "\n",
            "  FitFailedWarning)\n",
            "/usr/local/lib/python3.7/dist-packages/sklearn/model_selection/_validation.py:619: FitFailedWarning: Estimator fit failed. The score on this train-test partition for these parameters will be set to nan. Details: \n",
            "Traceback (most recent call last):\n",
            "  File \"/usr/local/lib/python3.7/dist-packages/sklearn/model_selection/_validation.py\", line 598, in _fit_and_score\n",
            "    estimator.fit(X_train, y_train, **fit_params)\n",
            "  File \"/usr/local/lib/python3.7/dist-packages/sklearn/linear_model/_logistic.py\", line 1351, in fit\n",
            "    len(self.classes_))\n",
            "  File \"/usr/local/lib/python3.7/dist-packages/sklearn/linear_model/_logistic.py\", line 474, in _check_multi_class\n",
            "    \"a multinomial backend.\" % solver)\n",
            "ValueError: Solver liblinear does not support a multinomial backend.\n",
            "\n",
            "  FitFailedWarning)\n",
            "/usr/local/lib/python3.7/dist-packages/sklearn/model_selection/_validation.py:619: FitFailedWarning: Estimator fit failed. The score on this train-test partition for these parameters will be set to nan. Details: \n",
            "Traceback (most recent call last):\n",
            "  File \"/usr/local/lib/python3.7/dist-packages/sklearn/model_selection/_validation.py\", line 598, in _fit_and_score\n",
            "    estimator.fit(X_train, y_train, **fit_params)\n",
            "  File \"/usr/local/lib/python3.7/dist-packages/sklearn/linear_model/_logistic.py\", line 1351, in fit\n",
            "    len(self.classes_))\n",
            "  File \"/usr/local/lib/python3.7/dist-packages/sklearn/linear_model/_logistic.py\", line 474, in _check_multi_class\n",
            "    \"a multinomial backend.\" % solver)\n",
            "ValueError: Solver liblinear does not support a multinomial backend.\n",
            "\n",
            "  FitFailedWarning)\n",
            "/usr/local/lib/python3.7/dist-packages/sklearn/model_selection/_validation.py:619: FitFailedWarning: Estimator fit failed. The score on this train-test partition for these parameters will be set to nan. Details: \n",
            "Traceback (most recent call last):\n",
            "  File \"/usr/local/lib/python3.7/dist-packages/sklearn/model_selection/_validation.py\", line 598, in _fit_and_score\n",
            "    estimator.fit(X_train, y_train, **fit_params)\n",
            "  File \"/usr/local/lib/python3.7/dist-packages/sklearn/linear_model/_logistic.py\", line 1351, in fit\n",
            "    len(self.classes_))\n",
            "  File \"/usr/local/lib/python3.7/dist-packages/sklearn/linear_model/_logistic.py\", line 474, in _check_multi_class\n",
            "    \"a multinomial backend.\" % solver)\n",
            "ValueError: Solver liblinear does not support a multinomial backend.\n",
            "\n",
            "  FitFailedWarning)\n",
            "/usr/local/lib/python3.7/dist-packages/sklearn/model_selection/_validation.py:619: FitFailedWarning: Estimator fit failed. The score on this train-test partition for these parameters will be set to nan. Details: \n",
            "Traceback (most recent call last):\n",
            "  File \"/usr/local/lib/python3.7/dist-packages/sklearn/model_selection/_validation.py\", line 598, in _fit_and_score\n",
            "    estimator.fit(X_train, y_train, **fit_params)\n",
            "  File \"/usr/local/lib/python3.7/dist-packages/sklearn/linear_model/_logistic.py\", line 1351, in fit\n",
            "    len(self.classes_))\n",
            "  File \"/usr/local/lib/python3.7/dist-packages/sklearn/linear_model/_logistic.py\", line 474, in _check_multi_class\n",
            "    \"a multinomial backend.\" % solver)\n",
            "ValueError: Solver liblinear does not support a multinomial backend.\n",
            "\n",
            "  FitFailedWarning)\n",
            "/usr/local/lib/python3.7/dist-packages/sklearn/model_selection/_search.py:925: UserWarning: One or more of the test scores are non-finite: [0.81784615 0.80953846 0.80153846 0.81723077 0.80953846 0.80953846\n",
            " 0.80153846 0.81723077 0.81784615 0.80953846 0.80153846        nan\n",
            " 0.81753846 0.80984615 0.80953846 0.81723077 0.80953846 0.80184615\n",
            " 0.80953846 0.81723077 0.81753846 0.80984615 0.81753846        nan\n",
            " 0.80984615 0.81753846 0.80153846 0.81723077 0.80953846 0.79384615\n",
            " 0.80953846 0.81723077 0.80984615 0.81753846 0.80153846        nan]\n",
            "  category=UserWarning\n"
          ],
          "name": "stderr"
        },
        {
          "output_type": "execute_result",
          "data": {
            "text/html": [
              "<div>\n",
              "<style scoped>\n",
              "    .dataframe tbody tr th:only-of-type {\n",
              "        vertical-align: middle;\n",
              "    }\n",
              "\n",
              "    .dataframe tbody tr th {\n",
              "        vertical-align: top;\n",
              "    }\n",
              "\n",
              "    .dataframe thead th {\n",
              "        text-align: right;\n",
              "    }\n",
              "</style>\n",
              "<table border=\"1\" class=\"dataframe\">\n",
              "  <thead>\n",
              "    <tr style=\"text-align: right;\">\n",
              "      <th></th>\n",
              "      <th>model</th>\n",
              "      <th>best_score</th>\n",
              "      <th>best_params</th>\n",
              "    </tr>\n",
              "  </thead>\n",
              "  <tbody>\n",
              "    <tr>\n",
              "      <th>0</th>\n",
              "      <td>svm</td>\n",
              "      <td>0.769846</td>\n",
              "      <td>{'C': 1, 'gamma': 0.001, 'kernel': 'linear'}</td>\n",
              "    </tr>\n",
              "    <tr>\n",
              "      <th>1</th>\n",
              "      <td>random_forest</td>\n",
              "      <td>0.651692</td>\n",
              "      <td>{'criterion': 'gini', 'max_depth': 20, 'n_esti...</td>\n",
              "    </tr>\n",
              "    <tr>\n",
              "      <th>2</th>\n",
              "      <td>logistic_regression</td>\n",
              "      <td>0.817846</td>\n",
              "      <td>{'C': 1, 'multi_class': 'auto', 'solver': 'new...</td>\n",
              "    </tr>\n",
              "  </tbody>\n",
              "</table>\n",
              "</div>"
            ],
            "text/plain": [
              "                 model  ...                                        best_params\n",
              "0                  svm  ...       {'C': 1, 'gamma': 0.001, 'kernel': 'linear'}\n",
              "1        random_forest  ...  {'criterion': 'gini', 'max_depth': 20, 'n_esti...\n",
              "2  logistic_regression  ...  {'C': 1, 'multi_class': 'auto', 'solver': 'new...\n",
              "\n",
              "[3 rows x 3 columns]"
            ]
          },
          "metadata": {
            "tags": []
          },
          "execution_count": 45
        }
      ]
    },
    {
      "cell_type": "code",
      "metadata": {
        "colab": {
          "base_uri": "https://localhost:8080/"
        },
        "id": "Y79EWjqObmXY",
        "outputId": "1f679492-2c0f-47f9-a4be-75ce4ddbceb9"
      },
      "source": [
        "best_estimators"
      ],
      "execution_count": 46,
      "outputs": [
        {
          "output_type": "execute_result",
          "data": {
            "text/plain": [
              "{'logistic_regression': LogisticRegression(C=1, solver='newton-cg'),\n",
              " 'random_forest': RandomForestClassifier(max_depth=20, n_estimators=5),\n",
              " 'svm': SVC(C=1, gamma=0.001, kernel='linear')}"
            ]
          },
          "metadata": {
            "tags": []
          },
          "execution_count": 46
        }
      ]
    },
    {
      "cell_type": "code",
      "metadata": {
        "colab": {
          "base_uri": "https://localhost:8080/"
        },
        "id": "NZKpqSVHj_I-",
        "outputId": "c0c5fcd4-2577-41a4-c19d-073b4185fecb"
      },
      "source": [
        "best_estimators['svm'].score(xtest,ytest)"
      ],
      "execution_count": 47,
      "outputs": [
        {
          "output_type": "execute_result",
          "data": {
            "text/plain": [
              "0.9761904761904762"
            ]
          },
          "metadata": {
            "tags": []
          },
          "execution_count": 47
        }
      ]
    },
    {
      "cell_type": "code",
      "metadata": {
        "id": "GlhJLoitkQPD"
      },
      "source": [
        "best_clf=best_estimators['svm']"
      ],
      "execution_count": 48,
      "outputs": []
    },
    {
      "cell_type": "code",
      "metadata": {
        "colab": {
          "base_uri": "https://localhost:8080/"
        },
        "id": "xWXE4aBEknUb",
        "outputId": "90deb346-95cf-4ad6-e096-abaf35bd565a"
      },
      "source": [
        "print(confusion_matrix(ytest,best_clf.predict(xtest)))"
      ],
      "execution_count": 51,
      "outputs": [
        {
          "output_type": "stream",
          "text": [
            "[[ 7  0  0  0  0]\n",
            " [ 1  9  0  0  0]\n",
            " [ 0  0 12  0  0]\n",
            " [ 0  0  0  4  0]\n",
            " [ 0  0  0  0  9]]\n"
          ],
          "name": "stdout"
        }
      ]
    },
    {
      "cell_type": "code",
      "metadata": {
        "colab": {
          "base_uri": "https://localhost:8080/"
        },
        "id": "SYvjUaKGk06D",
        "outputId": "abeb7008-8519-43cb-a4c1-62be9db72706"
      },
      "source": [
        "class_dict"
      ],
      "execution_count": 52,
      "outputs": [
        {
          "output_type": "execute_result",
          "data": {
            "text/plain": [
              "{'lionel_messi': 0,\n",
              " 'maria_sharapova': 1,\n",
              " 'roger_federer': 3,\n",
              " 'serena_williams': 4,\n",
              " 'virat_kohli': 2}"
            ]
          },
          "metadata": {
            "tags": []
          },
          "execution_count": 52
        }
      ]
    },
    {
      "cell_type": "code",
      "metadata": {
        "id": "7uPBRMG3k-8-"
      },
      "source": [
        "import pickle\n",
        "with open('celeb_model.pickle','wb') as f:\n",
        "  pickle.dump(best_clf,f)\n",
        "\n"
      ],
      "execution_count": 54,
      "outputs": []
    },
    {
      "cell_type": "code",
      "metadata": {
        "id": "lwl-zYTOlOdd"
      },
      "source": [
        "load=pickle.load(open('celeb_model.pickle','rb'))"
      ],
      "execution_count": 57,
      "outputs": []
    },
    {
      "cell_type": "code",
      "metadata": {
        "colab": {
          "base_uri": "https://localhost:8080/",
          "height": 358
        },
        "id": "65mgyyamLH7d",
        "outputId": "b7a8a31f-0c06-4cf5-83b9-3c63fe481a27"
      },
      "source": [
        "load.predict('/content/drive/MyDrive/images_dataset/lionel_messi/10_MESSI_JUGADORS-WEB.jpg')"
      ],
      "execution_count": 58,
      "outputs": [
        {
          "output_type": "error",
          "ename": "ValueError",
          "evalue": "ignored",
          "traceback": [
            "\u001b[0;31m---------------------------------------------------------------------------\u001b[0m",
            "\u001b[0;31mValueError\u001b[0m                                Traceback (most recent call last)",
            "\u001b[0;32m<ipython-input-58-fe41d2aec2c2>\u001b[0m in \u001b[0;36m<module>\u001b[0;34m()\u001b[0m\n\u001b[0;32m----> 1\u001b[0;31m \u001b[0mload\u001b[0m\u001b[0;34m.\u001b[0m\u001b[0mpredict\u001b[0m\u001b[0;34m(\u001b[0m\u001b[0;34m'/content/drive/MyDrive/images_dataset/lionel_messi/10_MESSI_JUGADORS-WEB.jpg'\u001b[0m\u001b[0;34m)\u001b[0m\u001b[0;34m\u001b[0m\u001b[0;34m\u001b[0m\u001b[0m\n\u001b[0m",
            "\u001b[0;32m/usr/local/lib/python3.7/dist-packages/sklearn/svm/_base.py\u001b[0m in \u001b[0;36mpredict\u001b[0;34m(self, X)\u001b[0m\n\u001b[1;32m    622\u001b[0m             \u001b[0my\u001b[0m \u001b[0;34m=\u001b[0m \u001b[0mnp\u001b[0m\u001b[0;34m.\u001b[0m\u001b[0margmax\u001b[0m\u001b[0;34m(\u001b[0m\u001b[0mself\u001b[0m\u001b[0;34m.\u001b[0m\u001b[0mdecision_function\u001b[0m\u001b[0;34m(\u001b[0m\u001b[0mX\u001b[0m\u001b[0;34m)\u001b[0m\u001b[0;34m,\u001b[0m \u001b[0maxis\u001b[0m\u001b[0;34m=\u001b[0m\u001b[0;36m1\u001b[0m\u001b[0;34m)\u001b[0m\u001b[0;34m\u001b[0m\u001b[0;34m\u001b[0m\u001b[0m\n\u001b[1;32m    623\u001b[0m         \u001b[0;32melse\u001b[0m\u001b[0;34m:\u001b[0m\u001b[0;34m\u001b[0m\u001b[0;34m\u001b[0m\u001b[0m\n\u001b[0;32m--> 624\u001b[0;31m             \u001b[0my\u001b[0m \u001b[0;34m=\u001b[0m \u001b[0msuper\u001b[0m\u001b[0;34m(\u001b[0m\u001b[0;34m)\u001b[0m\u001b[0;34m.\u001b[0m\u001b[0mpredict\u001b[0m\u001b[0;34m(\u001b[0m\u001b[0mX\u001b[0m\u001b[0;34m)\u001b[0m\u001b[0;34m\u001b[0m\u001b[0;34m\u001b[0m\u001b[0m\n\u001b[0m\u001b[1;32m    625\u001b[0m         \u001b[0;32mreturn\u001b[0m \u001b[0mself\u001b[0m\u001b[0;34m.\u001b[0m\u001b[0mclasses_\u001b[0m\u001b[0;34m.\u001b[0m\u001b[0mtake\u001b[0m\u001b[0;34m(\u001b[0m\u001b[0mnp\u001b[0m\u001b[0;34m.\u001b[0m\u001b[0masarray\u001b[0m\u001b[0;34m(\u001b[0m\u001b[0my\u001b[0m\u001b[0;34m,\u001b[0m \u001b[0mdtype\u001b[0m\u001b[0;34m=\u001b[0m\u001b[0mnp\u001b[0m\u001b[0;34m.\u001b[0m\u001b[0mintp\u001b[0m\u001b[0;34m)\u001b[0m\u001b[0;34m)\u001b[0m\u001b[0;34m\u001b[0m\u001b[0;34m\u001b[0m\u001b[0m\n\u001b[1;32m    626\u001b[0m \u001b[0;34m\u001b[0m\u001b[0m\n",
            "\u001b[0;32m/usr/local/lib/python3.7/dist-packages/sklearn/svm/_base.py\u001b[0m in \u001b[0;36mpredict\u001b[0;34m(self, X)\u001b[0m\n\u001b[1;32m    340\u001b[0m         \u001b[0my_pred\u001b[0m \u001b[0;34m:\u001b[0m \u001b[0mndarray\u001b[0m \u001b[0mof\u001b[0m \u001b[0mshape\u001b[0m \u001b[0;34m(\u001b[0m\u001b[0mn_samples\u001b[0m\u001b[0;34m,\u001b[0m\u001b[0;34m)\u001b[0m\u001b[0;34m\u001b[0m\u001b[0;34m\u001b[0m\u001b[0m\n\u001b[1;32m    341\u001b[0m         \"\"\"\n\u001b[0;32m--> 342\u001b[0;31m         \u001b[0mX\u001b[0m \u001b[0;34m=\u001b[0m \u001b[0mself\u001b[0m\u001b[0;34m.\u001b[0m\u001b[0m_validate_for_predict\u001b[0m\u001b[0;34m(\u001b[0m\u001b[0mX\u001b[0m\u001b[0;34m)\u001b[0m\u001b[0;34m\u001b[0m\u001b[0;34m\u001b[0m\u001b[0m\n\u001b[0m\u001b[1;32m    343\u001b[0m         \u001b[0mpredict\u001b[0m \u001b[0;34m=\u001b[0m \u001b[0mself\u001b[0m\u001b[0;34m.\u001b[0m\u001b[0m_sparse_predict\u001b[0m \u001b[0;32mif\u001b[0m \u001b[0mself\u001b[0m\u001b[0;34m.\u001b[0m\u001b[0m_sparse\u001b[0m \u001b[0;32melse\u001b[0m \u001b[0mself\u001b[0m\u001b[0;34m.\u001b[0m\u001b[0m_dense_predict\u001b[0m\u001b[0;34m\u001b[0m\u001b[0;34m\u001b[0m\u001b[0m\n\u001b[1;32m    344\u001b[0m         \u001b[0;32mreturn\u001b[0m \u001b[0mpredict\u001b[0m\u001b[0;34m(\u001b[0m\u001b[0mX\u001b[0m\u001b[0;34m)\u001b[0m\u001b[0;34m\u001b[0m\u001b[0;34m\u001b[0m\u001b[0m\n",
            "\u001b[0;32m/usr/local/lib/python3.7/dist-packages/sklearn/svm/_base.py\u001b[0m in \u001b[0;36m_validate_for_predict\u001b[0;34m(self, X)\u001b[0m\n\u001b[1;32m    473\u001b[0m         \u001b[0;32mif\u001b[0m \u001b[0;32mnot\u001b[0m \u001b[0mcallable\u001b[0m\u001b[0;34m(\u001b[0m\u001b[0mself\u001b[0m\u001b[0;34m.\u001b[0m\u001b[0mkernel\u001b[0m\u001b[0;34m)\u001b[0m\u001b[0;34m:\u001b[0m\u001b[0;34m\u001b[0m\u001b[0;34m\u001b[0m\u001b[0m\n\u001b[1;32m    474\u001b[0m             X = check_array(X, accept_sparse='csr', dtype=np.float64,\n\u001b[0;32m--> 475\u001b[0;31m                             order=\"C\", accept_large_sparse=False)\n\u001b[0m\u001b[1;32m    476\u001b[0m \u001b[0;34m\u001b[0m\u001b[0m\n\u001b[1;32m    477\u001b[0m         \u001b[0;32mif\u001b[0m \u001b[0mself\u001b[0m\u001b[0;34m.\u001b[0m\u001b[0m_sparse\u001b[0m \u001b[0;32mand\u001b[0m \u001b[0;32mnot\u001b[0m \u001b[0msp\u001b[0m\u001b[0;34m.\u001b[0m\u001b[0misspmatrix\u001b[0m\u001b[0;34m(\u001b[0m\u001b[0mX\u001b[0m\u001b[0;34m)\u001b[0m\u001b[0;34m:\u001b[0m\u001b[0;34m\u001b[0m\u001b[0;34m\u001b[0m\u001b[0m\n",
            "\u001b[0;32m/usr/local/lib/python3.7/dist-packages/sklearn/utils/validation.py\u001b[0m in \u001b[0;36minner_f\u001b[0;34m(*args, **kwargs)\u001b[0m\n\u001b[1;32m     61\u001b[0m             \u001b[0mextra_args\u001b[0m \u001b[0;34m=\u001b[0m \u001b[0mlen\u001b[0m\u001b[0;34m(\u001b[0m\u001b[0margs\u001b[0m\u001b[0;34m)\u001b[0m \u001b[0;34m-\u001b[0m \u001b[0mlen\u001b[0m\u001b[0;34m(\u001b[0m\u001b[0mall_args\u001b[0m\u001b[0;34m)\u001b[0m\u001b[0;34m\u001b[0m\u001b[0;34m\u001b[0m\u001b[0m\n\u001b[1;32m     62\u001b[0m             \u001b[0;32mif\u001b[0m \u001b[0mextra_args\u001b[0m \u001b[0;34m<=\u001b[0m \u001b[0;36m0\u001b[0m\u001b[0;34m:\u001b[0m\u001b[0;34m\u001b[0m\u001b[0;34m\u001b[0m\u001b[0m\n\u001b[0;32m---> 63\u001b[0;31m                 \u001b[0;32mreturn\u001b[0m \u001b[0mf\u001b[0m\u001b[0;34m(\u001b[0m\u001b[0;34m*\u001b[0m\u001b[0margs\u001b[0m\u001b[0;34m,\u001b[0m \u001b[0;34m**\u001b[0m\u001b[0mkwargs\u001b[0m\u001b[0;34m)\u001b[0m\u001b[0;34m\u001b[0m\u001b[0;34m\u001b[0m\u001b[0m\n\u001b[0m\u001b[1;32m     64\u001b[0m \u001b[0;34m\u001b[0m\u001b[0m\n\u001b[1;32m     65\u001b[0m             \u001b[0;31m# extra_args > 0\u001b[0m\u001b[0;34m\u001b[0m\u001b[0;34m\u001b[0m\u001b[0;34m\u001b[0m\u001b[0m\n",
            "\u001b[0;32m/usr/local/lib/python3.7/dist-packages/sklearn/utils/validation.py\u001b[0m in \u001b[0;36mcheck_array\u001b[0;34m(array, accept_sparse, accept_large_sparse, dtype, order, copy, force_all_finite, ensure_2d, allow_nd, ensure_min_samples, ensure_min_features, estimator)\u001b[0m\n\u001b[1;32m    671\u001b[0m                     \u001b[0marray\u001b[0m \u001b[0;34m=\u001b[0m \u001b[0marray\u001b[0m\u001b[0;34m.\u001b[0m\u001b[0mastype\u001b[0m\u001b[0;34m(\u001b[0m\u001b[0mdtype\u001b[0m\u001b[0;34m,\u001b[0m \u001b[0mcasting\u001b[0m\u001b[0;34m=\u001b[0m\u001b[0;34m\"unsafe\"\u001b[0m\u001b[0;34m,\u001b[0m \u001b[0mcopy\u001b[0m\u001b[0;34m=\u001b[0m\u001b[0;32mFalse\u001b[0m\u001b[0;34m)\u001b[0m\u001b[0;34m\u001b[0m\u001b[0;34m\u001b[0m\u001b[0m\n\u001b[1;32m    672\u001b[0m                 \u001b[0;32melse\u001b[0m\u001b[0;34m:\u001b[0m\u001b[0;34m\u001b[0m\u001b[0;34m\u001b[0m\u001b[0m\n\u001b[0;32m--> 673\u001b[0;31m                     \u001b[0marray\u001b[0m \u001b[0;34m=\u001b[0m \u001b[0mnp\u001b[0m\u001b[0;34m.\u001b[0m\u001b[0masarray\u001b[0m\u001b[0;34m(\u001b[0m\u001b[0marray\u001b[0m\u001b[0;34m,\u001b[0m \u001b[0morder\u001b[0m\u001b[0;34m=\u001b[0m\u001b[0morder\u001b[0m\u001b[0;34m,\u001b[0m \u001b[0mdtype\u001b[0m\u001b[0;34m=\u001b[0m\u001b[0mdtype\u001b[0m\u001b[0;34m)\u001b[0m\u001b[0;34m\u001b[0m\u001b[0;34m\u001b[0m\u001b[0m\n\u001b[0m\u001b[1;32m    674\u001b[0m             \u001b[0;32mexcept\u001b[0m \u001b[0mComplexWarning\u001b[0m \u001b[0;32mas\u001b[0m \u001b[0mcomplex_warning\u001b[0m\u001b[0;34m:\u001b[0m\u001b[0;34m\u001b[0m\u001b[0;34m\u001b[0m\u001b[0m\n\u001b[1;32m    675\u001b[0m                 raise ValueError(\"Complex data not supported\\n\"\n",
            "\u001b[0;32m/usr/local/lib/python3.7/dist-packages/numpy/core/_asarray.py\u001b[0m in \u001b[0;36masarray\u001b[0;34m(a, dtype, order)\u001b[0m\n\u001b[1;32m     81\u001b[0m \u001b[0;34m\u001b[0m\u001b[0m\n\u001b[1;32m     82\u001b[0m     \"\"\"\n\u001b[0;32m---> 83\u001b[0;31m     \u001b[0;32mreturn\u001b[0m \u001b[0marray\u001b[0m\u001b[0;34m(\u001b[0m\u001b[0ma\u001b[0m\u001b[0;34m,\u001b[0m \u001b[0mdtype\u001b[0m\u001b[0;34m,\u001b[0m \u001b[0mcopy\u001b[0m\u001b[0;34m=\u001b[0m\u001b[0;32mFalse\u001b[0m\u001b[0;34m,\u001b[0m \u001b[0morder\u001b[0m\u001b[0;34m=\u001b[0m\u001b[0morder\u001b[0m\u001b[0;34m)\u001b[0m\u001b[0;34m\u001b[0m\u001b[0;34m\u001b[0m\u001b[0m\n\u001b[0m\u001b[1;32m     84\u001b[0m \u001b[0;34m\u001b[0m\u001b[0m\n\u001b[1;32m     85\u001b[0m \u001b[0;34m\u001b[0m\u001b[0m\n",
            "\u001b[0;31mValueError\u001b[0m: could not convert string to float: '/content/drive/MyDrive/images_dataset/lionel_messi/10_MESSI_JUGADORS-WEB.jpg'"
          ]
        }
      ]
    },
    {
      "cell_type": "code",
      "metadata": {
        "id": "AA4sJ2TElXEd"
      },
      "source": [
        "load.score(xtest,ytest)"
      ],
      "execution_count": null,
      "outputs": []
    },
    {
      "cell_type": "code",
      "metadata": {
        "id": "BZeYI40EmIoL"
      },
      "source": [
        "import json\n",
        "with open('class_dictionary.json','w') as f:\n",
        "  f.write(json.dumps(class_dict))\n",
        "\n"
      ],
      "execution_count": null,
      "outputs": []
    },
    {
      "cell_type": "markdown",
      "metadata": {
        "id": "Gqi1HtCQSbLM"
      },
      "source": [
        "NOW LETS TEST!"
      ]
    },
    {
      "cell_type": "code",
      "metadata": {
        "colab": {
          "base_uri": "https://localhost:8080/"
        },
        "id": "XyKmPeWvnO7t",
        "outputId": "413bf9aa-c7ff-40e9-f0ad-5d2f7c249729"
      },
      "source": [
        "imgs=[]\n",
        "imgs=get_cropped_image_if_2_eyes('/content/drive/MyDrive/imades_dataset_cropped/roger_federer/roger_federer6.png')\n",
        "for img in imgs:\n",
        "  scalled_raw_image = cv2.resize(img, (32, 32))\n",
        "  img_har = w2d(img, 'db1', 5)\n",
        "  scalled_img_har = cv2.resize(img_har, (32, 32))\n",
        "\n",
        "        # we basically want to vertically stack both these images one above the other using stack fucntion in numpy\n",
        "\n",
        "  combined_img = np.vstack((scalled_raw_image.reshape(32 * 32 * 3, 1), scalled_img_har.reshape(32 * 32, 1)))\n",
        "  len_image=32*32*3+32*32\n",
        "  final = combined_img.reshape(1, len_image).astype(float)\n",
        "clf.predict_proba(final)   "
      ],
      "execution_count": 81,
      "outputs": [
        {
          "output_type": "execute_result",
          "data": {
            "text/plain": [
              "array([[0.07097466, 0.48531569, 0.02316719, 0.38859332, 0.03194915]])"
            ]
          },
          "metadata": {
            "tags": []
          },
          "execution_count": 81
        }
      ]
    },
    {
      "cell_type": "code",
      "metadata": {
        "id": "P15TXxyoMSHO"
      },
      "source": [
        "def w2d(img, mode='haar', level=1):\n",
        "    imArray = img\n",
        "    #Datatype conversions\n",
        "    #convert to grayscale\n",
        "    imArray = cv2.cvtColor( imArray,cv2.COLOR_RGB2GRAY )\n",
        "    #convert to float\n",
        "    imArray =  np.float32(imArray)\n",
        "    imArray /= 255;\n",
        "    # compute coefficients\n",
        "    coeffs=pywt.wavedec2(imArray, mode, level=level)\n",
        "\n",
        "    #Process Coefficients\n",
        "    coeffs_H=list(coeffs)\n",
        "    coeffs_H[0] *= 0;\n",
        "\n",
        "    # reconstruction\n",
        "    imArray_H=pywt.waverec2(coeffs_H, mode);\n",
        "    imArray_H *= 255;\n",
        "    imArray_H =  np.uint8(imArray_H)\n",
        "\n",
        "    return imArray_H"
      ],
      "execution_count": 69,
      "outputs": []
    },
    {
      "cell_type": "code",
      "metadata": {
        "id": "nytlbbLjMh0Y"
      },
      "source": [
        "def get_cropped_image_if_2_eyes(image_path):\n",
        "  face_cascade=cv2.CascadeClassifier('/content/drive/MyDrive/haarcascades/haarcascade_frontalface_default.xml')\n",
        "  eye_cascade=cv2.CascadeClassifier('/content/drive/MyDrive/haarcascades/haarcascade_eye.xml') \n",
        "  if image_path:\n",
        "    img=cv2.imread(image_path)\n",
        "\n",
        "    gray = cv2.cvtColor(img, cv2.COLOR_BGR2GRAY)\n",
        "    faces = face_cascade.detectMultiScale(gray, 1.3, 5)\n",
        "    cropped_faces=[]  #all faces in img\n",
        "    for (x, y, w, h) in faces:\n",
        "        roi_gray = gray[y:y + h, x:x + w]\n",
        "        roi_color = img[y:y + h, x:x + w]\n",
        "        eyes = eye_cascade.detectMultiScale(roi_gray)\n",
        "        if (len(eyes) >= 2):\n",
        "            cropped_faces.append(roi_color)\n",
        "    return cropped_faces"
      ],
      "execution_count": 68,
      "outputs": []
    }
  ]
}